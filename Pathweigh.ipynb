{
 "cells": [
  {
   "cell_type": "markdown",
   "metadata": {},
   "source": [
    "# Calculate Pathweigh analysis, UDP, activity and cosistency."
   ]
  },
  {
   "cell_type": "code",
   "execution_count": 1,
   "metadata": {},
   "outputs": [],
   "source": [
    "import numpy as np\n",
    "import pandas as pd\n",
    "from scipy.special import gammaln, psi, factorial\n",
    "from scipy.optimize import fmin_l_bfgs_b as optim\n",
    "from scipy.stats import nbinom, norm, poisson, gennorm\n",
    "from sklearn.mixture import GaussianMixture as GMM\n",
    "from numpy import inf\n",
    "from udp import *\n",
    "from activity import *\n",
    "\n",
    "infinitesimal = np.finfo(np.float).eps"
   ]
  },
  {
   "cell_type": "markdown",
   "metadata": {},
   "source": [
    "## Load file"
   ]
  },
  {
   "cell_type": "code",
   "execution_count": 2,
   "metadata": {},
   "outputs": [
    {
     "data": {
      "application/vnd.jupyter.widget-view+json": {
       "model_id": "e37de83ec95545c7aceefa4f4f25a501",
       "version_major": 2,
       "version_minor": 0
      },
      "text/plain": [
       "FileUpload(value={}, accept='.csv', description='Upload', style=ButtonStyle(button_color='lightgreen'))"
      ]
     },
     "metadata": {},
     "output_type": "display_data"
    },
    {
     "name": "stdout",
     "output_type": "stream",
     "text": [
      "GSE29013_RMA.csv\n",
      "Length of data file: 36399849\n",
      "Done\n"
     ]
    }
   ],
   "source": [
    "#Running locally, read file from path.\n",
    "#data = pd.read_csv('./data/Pathweigh/GSE29013_RMA.csv', index_col=0)\n",
    "#Or upload file using widget.\n",
    "import pandas as pd\n",
    "import ipywidgets as widgets\n",
    "import io\n",
    "\n",
    "#FileUpload limit size: https://github.com/jupyter-widgets/ipywidgets/issues/2522.\n",
    "data = pd.DataFrame()\n",
    "\n",
    "def ff(b):\n",
    "    global data\n",
    "    s.style.button_color = \"yellow\"\n",
    "    for elem in b.new.values():\n",
    "        print(elem['metadata']['name'])\n",
    "        #with open(elem['metadata']['name'], 'wb') as file:\n",
    "            #file.write(elem['content'])\n",
    "        print(f'Length of data file: {len(elem[\"content\"])}')\n",
    "        data = pd.read_csv(io.BytesIO(elem['content']), index_col=0)\n",
    "        print(\"Done\")\n",
    "    s.style.button_color = \"lightgreen\"\n",
    "\n",
    "s = widgets.FileUpload(\n",
    "    accept='.csv',  # Accepted file extension e.g. '.txt', '.pdf', 'image/*', 'image/*,.pdf'\n",
    "    multiple=False  # True to accept multiple files upload else False\n",
    ")\n",
    "s.style.button_color = \"lightgreen\"\n",
    "s.observe(ff, names='value')\n",
    "s"
   ]
  },
  {
   "cell_type": "markdown",
   "metadata": {},
   "source": [
    "## Calculate UDP"
   ]
  },
  {
   "cell_type": "code",
   "execution_count": 3,
   "metadata": {},
   "outputs": [
    {
     "name": "stdout",
     "output_type": "stream",
     "text": [
      "Sat Feb  8 00:30:21 2020 Calculate UDP, is_rnaseq: False\n",
      "............Sat Feb  8 00:30:40 2020 Done.\n"
     ]
    }
   ],
   "source": [
    "#Run UDP calculation.\n",
    "is_rnaseq = False #Chance to True in case of RNASeq data.\n",
    "udp = calc_udp_multi_process(data, is_rnaseq)"
   ]
  },
  {
   "cell_type": "markdown",
   "metadata": {},
   "source": [
    "## Calculate Activity and Consistency"
   ]
  },
  {
   "cell_type": "code",
   "execution_count": 4,
   "metadata": {},
   "outputs": [
    {
     "name": "stdout",
     "output_type": "stream",
     "text": [
      "Sat Feb  8 00:31:09 2020 Init activity object\n",
      "Sat Feb  8 00:31:09 2020 Calculate activity and consistency...\n",
      "...Sat Feb  8 00:31:16 2020 Done.\n"
     ]
    }
   ],
   "source": [
    "activity_obj = path_activity(udp, is_rnaseq)\n",
    "activity = activity_obj.calc_activity_consistency_multi_process()"
   ]
  },
  {
   "cell_type": "markdown",
   "metadata": {},
   "source": [
    "## Select Path For Export"
   ]
  },
  {
   "cell_type": "code",
   "execution_count": 5,
   "metadata": {},
   "outputs": [
    {
     "data": {
      "application/vnd.jupyter.widget-view+json": {
       "model_id": "040277b1c04e480e86b4bb0da209a7aa",
       "version_major": 2,
       "version_minor": 0
      },
      "text/plain": [
       "Dropdown(description='Select a path', options=('granzyme a mediated apoptosis pathway(BioCarta)', 'hiv-1 nef: …"
      ]
     },
     "metadata": {},
     "output_type": "display_data"
    }
   ],
   "source": [
    "paths = pd.read_csv('pathologist.db.txt', delimiter='\\t', header=None)\n",
    "options = paths[0].unique()\n",
    "dd = widgets.Dropdown(options=options, description='Select a path', disabled=False)\n",
    "dd"
   ]
  },
  {
   "cell_type": "markdown",
   "metadata": {},
   "source": [
    "## Calculate Kegg Diagram"
   ]
  },
  {
   "cell_type": "code",
   "execution_count": 6,
   "metadata": {
    "scrolled": true
   },
   "outputs": [
    {
     "name": "stdout",
     "output_type": "stream",
     "text": [
      "Create Kegg XML for path: granzyme a mediated apoptosis pathway(BioCarta), sample: 0\n"
     ]
    }
   ],
   "source": [
    "xml_result = activity_obj.xmlparser(path_id=dd.value, sample_num=0) #Select the required sample number."
   ]
  },
  {
   "cell_type": "markdown",
   "metadata": {},
   "source": [
    "## Download Kegg Diagram"
   ]
  },
  {
   "cell_type": "code",
   "execution_count": 21,
   "metadata": {},
   "outputs": [
    {
     "data": {
      "text/html": [
       "<a href='output_path.xml' target='_blank'>output_path.xml</a><br>"
      ],
      "text/plain": [
       "c:\\Users\\Admin\\Google Drive\\src\\Pathweigh\\output_path.xml"
      ]
     },
     "execution_count": 21,
     "metadata": {},
     "output_type": "execute_result"
    }
   ],
   "source": [
    "from IPython.display import FileLink\n",
    "\n",
    "FileLink('output_path.xml')"
   ]
  },
  {
   "cell_type": "code",
   "execution_count": null,
   "metadata": {},
   "outputs": [],
   "source": [
    "xml_result.encode()"
   ]
  }
 ],
 "metadata": {
  "kernelspec": {
   "display_name": "Python 3",
   "language": "python",
   "name": "python3"
  },
  "language_info": {
   "codemirror_mode": {
    "name": "ipython",
    "version": 3
   },
   "file_extension": ".py",
   "mimetype": "text/x-python",
   "name": "python",
   "nbconvert_exporter": "python",
   "pygments_lexer": "ipython3",
   "version": "3.7.1"
  }
 },
 "nbformat": 4,
 "nbformat_minor": 2
}
