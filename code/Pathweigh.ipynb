{
  "nbformat": 4,
  "nbformat_minor": 0,
  "metadata": {
    "kernelspec": {
      "display_name": "Python 3",
      "language": "python",
      "name": "python3"
    },
    "language_info": {
      "codemirror_mode": {
        "name": "ipython",
        "version": 3
      },
      "file_extension": ".py",
      "mimetype": "text/x-python",
      "name": "python",
      "nbconvert_exporter": "python",
      "pygments_lexer": "ipython3",
      "version": "3.7.1"
    },
    "colab": {
      "name": "Pathweigh.ipynb",
      "provenance": [],
      "collapsed_sections": [],
      "machine_shape": "hm"
    }
  },
  "cells": [
    {
      "cell_type": "markdown",
      "metadata": {
        "id": "On-yyCe7trKO",
        "colab_type": "text"
      },
      "source": [
        "#Pathweigh Analysis."
      ]
    },
    {
      "cell_type": "markdown",
      "metadata": {
        "id": "XG1woi1NceWy",
        "colab_type": "text"
      },
      "source": [
        "\n",
        "1. Run all the following cells.\n",
        "2. Input file is should be named input.csv and can be either microarray or next gen RNA sequence data. Configure the following parameter: is_rnaseq. On Colab an input.csv file can be uploaded to the server.\n",
        "3. Configure a sample number for export.\n",
        "4. Use the following table in order to configure a path ID for export:\n",
        "https://github.com/zurkin1/Pathweigh/blob/master/README.md."
      ]
    },
    {
      "cell_type": "code",
      "metadata": {
        "id": "7EavPT0n0Jfz",
        "colab_type": "code",
        "colab": {
          "base_uri": "https://localhost:8080/",
          "height": 139
        },
        "outputId": "a17dccbb-70eb-4f57-ba9b-ddb043d40591"
      },
      "source": [
        "#Default configuration.\n",
        "is_rnaseq = False\n",
        "sample_num = 0\n",
        "path_id = 708708 #1-and 2-Methylnaphthalene degradation(Kegg).\n",
        "\n",
        "#Input file should be named input.csv (an example file is provided).\n",
        "!rm -r Pathweigh\n",
        "!git clone https://github.com/zurkin1/Pathweigh.git\n",
        "!mv Pathweigh/code/*.* ."
      ],
      "execution_count": null,
      "outputs": [
        {
          "output_type": "stream",
          "text": [
            "Cloning into 'Pathweigh'...\n",
            "remote: Enumerating objects: 159, done.\u001b[K\n",
            "remote: Counting objects: 100% (159/159), done.\u001b[K\n",
            "remote: Compressing objects: 100% (136/136), done.\u001b[K\n",
            "remote: Total 159 (delta 79), reused 46 (delta 17), pack-reused 0\u001b[K\n",
            "Receiving objects: 100% (159/159), 12.10 MiB | 11.20 MiB/s, done.\n",
            "Resolving deltas: 100% (79/79), done.\n"
          ],
          "name": "stdout"
        }
      ]
    },
    {
      "cell_type": "markdown",
      "metadata": {
        "id": "FEyiupK8trKW",
        "colab_type": "text"
      },
      "source": [
        "## Calculate UDP per Gene and Paths Activity."
      ]
    },
    {
      "cell_type": "code",
      "metadata": {
        "id": "9ZuxbDMqtrKX",
        "colab_type": "code",
        "colab": {
          "base_uri": "https://localhost:8080/",
          "height": 289
        },
        "outputId": "601ddb85-0111-4ce0-c3a1-ffd905bbd469"
      },
      "source": [
        "from udp import *\n",
        "\n",
        "udp = calc_udp_multi_process(is_rnaseq = is_rnaseq)"
      ],
      "execution_count": null,
      "outputs": [
        {
          "output_type": "stream",
          "text": [
            "Fri Jul 10 23:06:54 2020 Calculate UDP, is_rnaseq: False\n",
            "............Fri Jul 10 23:07:32 2020 Done.\n",
            "Fri Jul 10 23:07:32 2020 Init activity object\n",
            "Fri Jul 10 23:07:33 2020 Calculate activity and consistency...\n",
            "...Fri Jul 10 23:07:41 2020 Done.\n"
          ],
          "name": "stdout"
        },
        {
          "output_type": "execute_result",
          "data": {
            "text/html": [
              "<div>\n",
              "<style scoped>\n",
              "    .dataframe tbody tr th:only-of-type {\n",
              "        vertical-align: middle;\n",
              "    }\n",
              "\n",
              "    .dataframe tbody tr th {\n",
              "        vertical-align: top;\n",
              "    }\n",
              "\n",
              "    .dataframe thead th {\n",
              "        text-align: right;\n",
              "    }\n",
              "</style>\n",
              "<table border=\"1\" class=\"dataframe\">\n",
              "  <thead>\n",
              "    <tr style=\"text-align: right;\">\n",
              "      <th></th>\n",
              "      <th>sampleID</th>\n",
              "      <th>path_name</th>\n",
              "      <th>pathID</th>\n",
              "      <th>Activity</th>\n",
              "      <th>Consistency</th>\n",
              "      <th>molRole</th>\n",
              "    </tr>\n",
              "  </thead>\n",
              "  <tbody>\n",
              "    <tr>\n",
              "      <th>0</th>\n",
              "      <td>GSM718769</td>\n",
              "      <td>west nile virus(BioCarta)</td>\n",
              "      <td>100001</td>\n",
              "      <td>0.701975</td>\n",
              "      <td>0.705708</td>\n",
              "      <td>input</td>\n",
              "    </tr>\n",
              "    <tr>\n",
              "      <th>1</th>\n",
              "      <td>GSM718769</td>\n",
              "      <td>west nile virus(BioCarta)</td>\n",
              "      <td>100001</td>\n",
              "      <td>0.701975</td>\n",
              "      <td>0.705708</td>\n",
              "      <td>output</td>\n",
              "    </tr>\n",
              "    <tr>\n",
              "      <th>2</th>\n",
              "      <td>GSM718769</td>\n",
              "      <td>west nile virus(BioCarta)</td>\n",
              "      <td>100001</td>\n",
              "      <td>0.701975</td>\n",
              "      <td>0.705708</td>\n",
              "      <td>agent</td>\n",
              "    </tr>\n",
              "    <tr>\n",
              "      <th>3</th>\n",
              "      <td>GSM718769</td>\n",
              "      <td>wnt signaling pathway(BioCarta)</td>\n",
              "      <td>100002</td>\n",
              "      <td>0.185143</td>\n",
              "      <td>0.349168</td>\n",
              "      <td>input</td>\n",
              "    </tr>\n",
              "    <tr>\n",
              "      <th>4</th>\n",
              "      <td>GSM718769</td>\n",
              "      <td>wnt signaling pathway(BioCarta)</td>\n",
              "      <td>100002</td>\n",
              "      <td>0.185143</td>\n",
              "      <td>0.349168</td>\n",
              "      <td>output</td>\n",
              "    </tr>\n",
              "  </tbody>\n",
              "</table>\n",
              "</div>"
            ],
            "text/plain": [
              "    sampleID                        path_name  ... Consistency molRole\n",
              "0  GSM718769        west nile virus(BioCarta)  ...    0.705708   input\n",
              "1  GSM718769        west nile virus(BioCarta)  ...    0.705708  output\n",
              "2  GSM718769        west nile virus(BioCarta)  ...    0.705708   agent\n",
              "3  GSM718769  wnt signaling pathway(BioCarta)  ...    0.349168   input\n",
              "4  GSM718769  wnt signaling pathway(BioCarta)  ...    0.349168  output\n",
              "\n",
              "[5 rows x 6 columns]"
            ]
          },
          "metadata": {
            "tags": []
          },
          "execution_count": 42
        }
      ]
    },
    {
      "cell_type": "code",
      "metadata": {
        "id": "nW_-xZmzn9qf",
        "colab_type": "code",
        "colab": {}
      },
      "source": [
        "from activity import *\n",
        "\n",
        "activity_obj = path_activity(udp, is_rnaseq = is_rnaseq)\n",
        "activity = activity_obj.calc_activity_consistency_multi_process() #Output is saved to output_activity.csv.\n",
        "activity_obj.activity.head()"
      ],
      "execution_count": null,
      "outputs": []
    },
    {
      "cell_type": "markdown",
      "metadata": {
        "id": "W1WizDoVb3xq",
        "colab_type": "text"
      },
      "source": [
        "##Draw a KGML map for path activity and Download KGML file."
      ]
    },
    {
      "cell_type": "code",
      "metadata": {
        "id": "Pf8Oj-qyEIM6",
        "colab_type": "code",
        "colab": {
          "base_uri": "https://localhost:8080/",
          "height": 1000
        },
        "outputId": "e3a8a2ab-f665-4273-dd2a-8584b2e08a14"
      },
      "source": [
        "activity_obj.graphparser(path_id=path_id, sample_num=sample_num)\n",
        "\n",
        "xml_result = activity_obj.xmlparser(path_id=path_id, sample_num=sample_num)\n",
        "from bs4 import BeautifulSoup\n",
        "bs = BeautifulSoup(open('output_path.xml'), \"html.parser\")\n",
        "print(bs.prettify())"
      ],
      "execution_count": null,
      "outputs": [
        {
          "output_type": "display_data",
          "data": {
            "text/html": [
              "<html>\n",
              "<head><meta charset=\"utf-8\" /></head>\n",
              "<body>\n",
              "    <div>\n",
              "            <script src=\"https://cdnjs.cloudflare.com/ajax/libs/mathjax/2.7.5/MathJax.js?config=TeX-AMS-MML_SVG\"></script><script type=\"text/javascript\">if (window.MathJax) {MathJax.Hub.Config({SVG: {font: \"STIX-Web\"}});}</script>\n",
              "                <script type=\"text/javascript\">window.PlotlyConfig = {MathJaxConfig: 'local'};</script>\n",
              "        <script src=\"https://cdn.plot.ly/plotly-latest.min.js\"></script>    \n",
              "            <div id=\"aa4c1c58-a99a-4d25-ac61-30f33f7149b5\" class=\"plotly-graph-div\" style=\"height:525px; width:100%;\"></div>\n",
              "            <script type=\"text/javascript\">\n",
              "                \n",
              "                    window.PLOTLYENV=window.PLOTLYENV || {};\n",
              "                    \n",
              "                if (document.getElementById(\"aa4c1c58-a99a-4d25-ac61-30f33f7149b5\")) {\n",
              "                    Plotly.newPlot(\n",
              "                        'aa4c1c58-a99a-4d25-ac61-30f33f7149b5',\n",
              "                        [{\"hoverinfo\": \"none\", \"line\": {\"color\": \"#888\", \"width\": 0.5}, \"mode\": \"lines\", \"type\": \"scatter\", \"x\": [500.0, 383.0222207825861, null, 469.84630870564126, 500.0, null, 469.84630870564126, 86.82411813929824, null, 249.99998903108985, 500.0, null, 86.82411813929824, 249.99998903108985, null, 86.82411813929824, -86.82408750913403, null, -250.00001800556953, 86.82411813929824, null, -383.0222050535829, -499.9999842709968, null, -469.8462929766381, -383.0222050535829, null, -469.8462929766381, 249.99995922876795, null, -469.8462929766381, -383.0222050535829, null, -383.0222348559048, -86.8240577068121, null, -249.9999434997647, -383.0222348559048, null, 86.82408088639583, -383.0222348559048, null, 249.99995922876795, 383.0221611779422, null, 469.8462789033194, 249.99995922876795, null], \"y\": [1.4018202279541264e-05, 321.3937968238687, null, 171.01007342688757, 1.4018202279541264e-05, null, 171.01007342688757, 492.403871133715, null, 433.01273113007323, 1.4018202279541264e-05, null, 492.403871133715, 433.01273113007323, null, 492.403871133715, 492.403871133715, null, 433.0127013277513, 492.403871133715, null, 321.3938266261907, -2.9693185319660098e-05, null, 171.01011813037044, 321.3938266261907, null, 171.01011813037044, -433.0127030936687, null, -171.01006029164398, 321.3938266261907, null, -321.3937687874642, -492.40387289963235, null, -433.0127030936687, -321.3937687874642, null, -492.40384309731047, -321.3937687874642, null, -433.0127030936687, -321.3938581944299, null, -171.0101645997707, -433.0127030936687, null]}, {\"hoverinfo\": \"text\", \"hovertext\": [\"Type: interaction, ID: 708709, Activity: 1.0\", \"Type: protein, ID: 708648, Activity: 1.0\", \"Type: compound, ID: 708651, Activity: 1.0\", \"Type: compound, ID: 708655, Activity: 1.0\", \"Type: interaction, ID: 708710, Activity: 1.0\", \"Type: compound, ID: 708649, Activity: 1.0\", \"Type: compound, ID: 708704, Activity: 1.0\", \"Type: interaction, ID: 708711, Activity: 1.0\", \"Type: protein, ID: 708673, Activity: 1.0\", \"Type: compound, ID: 708680, Activity: 1.0\", \"Type: compound, ID: 708682, Activity: 1.0\", \"Type: interaction, ID: 708712, Activity: 0.0\", \"Type: protein, ID: 708677, Activity: 0.0\", \"Type: compound, ID: 708695, Activity: 1.0\", \"Type: compound, ID: 708688, Activity: 1.0\", \"Type: interaction, ID: 708713, Activity: 1.0\", \"Type: compound, ID: 708652, Activity: 1.0\", \"Type: compound, ID: 708653, Activity: 1.0\"], \"marker\": {\"color\": [\"#FF0000\", \"#FF0000\", \"#FF0000\", \"#FF0000\", \"#FF0000\", \"#FF0000\", \"#FF0000\", \"#FF0000\", \"#FF0000\", \"#FF0000\", \"#FF0000\", \"#00FF00\", \"#00FF00\", \"#FF0000\", \"#FF0000\", \"#FF0000\", \"#FF0000\", \"#FF0000\"], \"colorbar\": {\"thickness\": 15, \"title\": {\"side\": \"right\", \"text\": \"Activity Level\"}, \"xanchor\": \"left\"}, \"colorscale\": [[0.0, \"rgb(255,255,204)\"], [0.125, \"rgb(255,237,160)\"], [0.25, \"rgb(254,217,118)\"], [0.375, \"rgb(254,178,76)\"], [0.5, \"rgb(253,141,60)\"], [0.625, \"rgb(252,78,42)\"], [0.75, \"rgb(227,26,28)\"], [0.875, \"rgb(189,0,38)\"], [1.0, \"rgb(128,0,38)\"]], \"line\": {\"width\": 2}, \"showscale\": false, \"size\": 10, \"symbol\": [0, 1, 1, 1, 0, 1, 1, 0, 1, 1, 1, 0, 1, 1, 1, 0, 1, 1]}, \"mode\": \"markers+text\", \"name\": \"process\", \"text\": [\"\", \"fm_708637\", \"2-Naphthoic acid\", \"2-Naphthoyl-CoA\", \"\", \"Succinyl-CoA\", \"Naphthyl-2-oxomethyl-succinyl-CoA\", \"\", \"fm_708665\", \"1-Naphthaldehyde\", \"1-Naphthalenemethanol\", \"\", \"fm_708674\", \"Naphthyl-2-methylene-succinyl-CoA\", \"Naphthyl-2-methyl-succinyl-CoA\", \"\", \"2-Naphthaldehyde\", \"(2-Naphthyl)methanol\"], \"textposition\": \"top center\", \"type\": \"scatter\", \"x\": [500.0, 469.84630870564126, 383.0222207825861, 249.99998903108985, 86.82411813929824, -86.82408750913403, -250.00001800556953, -383.0222050535829, -469.8462929766381, -499.9999842709968, -469.8462929766381, -383.0222348559048, -249.9999434997647, -86.8240577068121, 86.82408088639583, 249.99995922876795, 383.0221611779422, 469.8462789033194], \"y\": [1.4018202279541264e-05, 171.01007342688757, 321.3937968238687, 433.01273113007323, 492.403871133715, 492.403871133715, 433.0127013277513, 321.3938266261907, 171.01011813037044, -2.9693185319660098e-05, -171.01006029164398, -321.3937687874642, -433.0127030936687, -492.40387289963235, -492.40384309731047, -433.0127030936687, -321.3938581944299, -171.0101645997707]}, {\"mode\": \"text\", \"name\": \"Text\", \"text\": [\"High Activity\"], \"textfont\": {\"color\": \"red\", \"family\": \"sans serif\", \"size\": 18}, \"type\": \"scatter\", \"x\": [400], \"y\": [-200]}, {\"mode\": \"text\", \"name\": \"Text\", \"text\": [\"Low Activity\"], \"textfont\": {\"color\": \"green\", \"family\": \"sans serif\", \"size\": 18}, \"type\": \"scatter\", \"x\": [400], \"y\": [-240]}],\n",
              "                        {\"annotations\": [{\"showarrow\": false, \"text\": \"Python code: <a href='https://github.com/zurkin1/Pathweigh/'> https://github.com/zurkin1/Pathweigh/</a>\", \"x\": 0.005, \"xref\": \"paper\", \"y\": -0.002, \"yref\": \"paper\"}, {\"arrowhead\": 1, \"arrowsize\": 3, \"ax\": 500.0, \"axref\": \"x\", \"ay\": 1.4018202279541264e-05, \"ayref\": \"y\", \"showarrow\": true, \"x\": 469.84630870564126, \"xref\": \"x\", \"y\": 171.01007342688757, \"yref\": \"y\"}, {\"arrowhead\": 1, \"arrowsize\": 3, \"ax\": 86.82411813929824, \"axref\": \"x\", \"ay\": 492.403871133715, \"ayref\": \"y\", \"showarrow\": true, \"x\": 469.84630870564126, \"xref\": \"x\", \"y\": 171.01007342688757, \"yref\": \"y\"}, {\"arrowhead\": 1, \"arrowsize\": 3, \"ax\": 500.0, \"axref\": \"x\", \"ay\": 1.4018202279541264e-05, \"ayref\": \"y\", \"showarrow\": true, \"x\": 249.99998903108985, \"xref\": \"x\", \"y\": 433.01273113007323, \"yref\": \"y\"}, {\"arrowhead\": 1, \"arrowsize\": 3, \"ax\": 249.99998903108985, \"axref\": \"x\", \"ay\": 433.01273113007323, \"ayref\": \"y\", \"showarrow\": true, \"x\": 86.82411813929824, \"xref\": \"x\", \"y\": 492.403871133715, \"yref\": \"y\"}, {\"arrowhead\": 1, \"arrowsize\": 3, \"ax\": -86.82408750913403, \"axref\": \"x\", \"ay\": 492.403871133715, \"ayref\": \"y\", \"showarrow\": true, \"x\": 86.82411813929824, \"xref\": \"x\", \"y\": 492.403871133715, \"yref\": \"y\"}, {\"arrowhead\": 1, \"arrowsize\": 3, \"ax\": 86.82411813929824, \"axref\": \"x\", \"ay\": 492.403871133715, \"ayref\": \"y\", \"showarrow\": true, \"x\": -250.00001800556953, \"xref\": \"x\", \"y\": 433.0127013277513, \"yref\": \"y\"}, {\"arrowhead\": 1, \"arrowsize\": 3, \"ax\": -499.9999842709968, \"axref\": \"x\", \"ay\": -2.9693185319660098e-05, \"ayref\": \"y\", \"showarrow\": true, \"x\": -383.0222050535829, \"xref\": \"x\", \"y\": 321.3938266261907, \"yref\": \"y\"}, {\"arrowhead\": 1, \"arrowsize\": 3, \"ax\": -383.0222050535829, \"axref\": \"x\", \"ay\": 321.3938266261907, \"ayref\": \"y\", \"showarrow\": true, \"x\": -469.8462929766381, \"xref\": \"x\", \"y\": 171.01011813037044, \"yref\": \"y\"}, {\"arrowhead\": 1, \"arrowsize\": 3, \"ax\": 249.99995922876795, \"axref\": \"x\", \"ay\": -433.0127030936687, \"ayref\": \"y\", \"showarrow\": true, \"x\": -469.8462929766381, \"xref\": \"x\", \"y\": 171.01011813037044, \"yref\": \"y\"}, {\"arrowhead\": 1, \"arrowsize\": 3, \"ax\": -383.0222050535829, \"axref\": \"x\", \"ay\": 321.3938266261907, \"ayref\": \"y\", \"showarrow\": true, \"x\": -469.8462929766381, \"xref\": \"x\", \"y\": -171.01006029164398, \"yref\": \"y\"}, {\"arrowhead\": 1, \"arrowsize\": 3, \"ax\": -86.8240577068121, \"axref\": \"x\", \"ay\": -492.40387289963235, \"ayref\": \"y\", \"showarrow\": true, \"x\": -383.0222348559048, \"xref\": \"x\", \"y\": -321.3937687874642, \"yref\": \"y\"}, {\"arrowhead\": 1, \"arrowsize\": 3, \"ax\": -383.0222348559048, \"axref\": \"x\", \"ay\": -321.3937687874642, \"ayref\": \"y\", \"showarrow\": true, \"x\": -249.9999434997647, \"xref\": \"x\", \"y\": -433.0127030936687, \"yref\": \"y\"}, {\"arrowhead\": 1, \"arrowsize\": 3, \"ax\": -383.0222348559048, \"axref\": \"x\", \"ay\": -321.3937687874642, \"ayref\": \"y\", \"showarrow\": true, \"x\": 86.82408088639583, \"xref\": \"x\", \"y\": -492.40384309731047, \"yref\": \"y\"}, {\"arrowhead\": 1, \"arrowsize\": 3, \"ax\": 383.0221611779422, \"axref\": \"x\", \"ay\": -321.3938581944299, \"ayref\": \"y\", \"showarrow\": true, \"x\": 249.99995922876795, \"xref\": \"x\", \"y\": -433.0127030936687, \"yref\": \"y\"}, {\"arrowhead\": 1, \"arrowsize\": 3, \"ax\": 249.99995922876795, \"axref\": \"x\", \"ay\": -433.0127030936687, \"ayref\": \"y\", \"showarrow\": true, \"x\": 469.8462789033194, \"xref\": \"x\", \"y\": -171.0101645997707, \"yref\": \"y\"}], \"hovermode\": \"closest\", \"margin\": {\"b\": 20, \"l\": 5, \"r\": 5, \"t\": 40}, \"showlegend\": false, \"template\": {\"data\": {\"bar\": [{\"error_x\": {\"color\": \"#2a3f5f\"}, \"error_y\": {\"color\": \"#2a3f5f\"}, \"marker\": {\"line\": {\"color\": \"#E5ECF6\", \"width\": 0.5}}, \"type\": \"bar\"}], \"barpolar\": [{\"marker\": {\"line\": {\"color\": \"#E5ECF6\", \"width\": 0.5}}, \"type\": \"barpolar\"}], \"carpet\": [{\"aaxis\": {\"endlinecolor\": \"#2a3f5f\", \"gridcolor\": \"white\", \"linecolor\": \"white\", \"minorgridcolor\": \"white\", \"startlinecolor\": \"#2a3f5f\"}, \"baxis\": {\"endlinecolor\": \"#2a3f5f\", \"gridcolor\": \"white\", \"linecolor\": \"white\", \"minorgridcolor\": \"white\", \"startlinecolor\": \"#2a3f5f\"}, \"type\": \"carpet\"}], \"choropleth\": [{\"colorbar\": {\"outlinewidth\": 0, \"ticks\": \"\"}, \"type\": \"choropleth\"}], \"contour\": [{\"colorbar\": {\"outlinewidth\": 0, \"ticks\": \"\"}, \"colorscale\": [[0.0, \"#0d0887\"], [0.1111111111111111, \"#46039f\"], [0.2222222222222222, \"#7201a8\"], [0.3333333333333333, \"#9c179e\"], [0.4444444444444444, \"#bd3786\"], [0.5555555555555556, \"#d8576b\"], [0.6666666666666666, \"#ed7953\"], [0.7777777777777778, \"#fb9f3a\"], [0.8888888888888888, \"#fdca26\"], [1.0, \"#f0f921\"]], \"type\": \"contour\"}], \"contourcarpet\": [{\"colorbar\": {\"outlinewidth\": 0, \"ticks\": \"\"}, \"type\": \"contourcarpet\"}], \"heatmap\": [{\"colorbar\": {\"outlinewidth\": 0, \"ticks\": \"\"}, \"colorscale\": [[0.0, \"#0d0887\"], [0.1111111111111111, \"#46039f\"], [0.2222222222222222, \"#7201a8\"], [0.3333333333333333, \"#9c179e\"], [0.4444444444444444, \"#bd3786\"], [0.5555555555555556, \"#d8576b\"], [0.6666666666666666, \"#ed7953\"], [0.7777777777777778, \"#fb9f3a\"], [0.8888888888888888, \"#fdca26\"], [1.0, \"#f0f921\"]], \"type\": \"heatmap\"}], \"heatmapgl\": [{\"colorbar\": {\"outlinewidth\": 0, \"ticks\": \"\"}, \"colorscale\": [[0.0, \"#0d0887\"], [0.1111111111111111, \"#46039f\"], [0.2222222222222222, \"#7201a8\"], [0.3333333333333333, \"#9c179e\"], [0.4444444444444444, \"#bd3786\"], [0.5555555555555556, \"#d8576b\"], [0.6666666666666666, \"#ed7953\"], [0.7777777777777778, \"#fb9f3a\"], [0.8888888888888888, \"#fdca26\"], [1.0, \"#f0f921\"]], \"type\": \"heatmapgl\"}], \"histogram\": [{\"marker\": {\"colorbar\": {\"outlinewidth\": 0, \"ticks\": \"\"}}, \"type\": \"histogram\"}], \"histogram2d\": [{\"colorbar\": {\"outlinewidth\": 0, \"ticks\": \"\"}, \"colorscale\": [[0.0, \"#0d0887\"], [0.1111111111111111, \"#46039f\"], [0.2222222222222222, \"#7201a8\"], [0.3333333333333333, \"#9c179e\"], [0.4444444444444444, \"#bd3786\"], [0.5555555555555556, \"#d8576b\"], [0.6666666666666666, \"#ed7953\"], [0.7777777777777778, \"#fb9f3a\"], [0.8888888888888888, \"#fdca26\"], [1.0, \"#f0f921\"]], \"type\": \"histogram2d\"}], \"histogram2dcontour\": [{\"colorbar\": {\"outlinewidth\": 0, \"ticks\": \"\"}, \"colorscale\": [[0.0, \"#0d0887\"], [0.1111111111111111, \"#46039f\"], [0.2222222222222222, \"#7201a8\"], [0.3333333333333333, \"#9c179e\"], [0.4444444444444444, \"#bd3786\"], [0.5555555555555556, \"#d8576b\"], [0.6666666666666666, \"#ed7953\"], [0.7777777777777778, \"#fb9f3a\"], [0.8888888888888888, \"#fdca26\"], [1.0, \"#f0f921\"]], \"type\": \"histogram2dcontour\"}], \"mesh3d\": [{\"colorbar\": {\"outlinewidth\": 0, \"ticks\": \"\"}, \"type\": \"mesh3d\"}], \"parcoords\": [{\"line\": {\"colorbar\": {\"outlinewidth\": 0, \"ticks\": \"\"}}, \"type\": \"parcoords\"}], \"pie\": [{\"automargin\": true, \"type\": \"pie\"}], \"scatter\": [{\"marker\": {\"colorbar\": {\"outlinewidth\": 0, \"ticks\": \"\"}}, \"type\": \"scatter\"}], \"scatter3d\": [{\"line\": {\"colorbar\": {\"outlinewidth\": 0, \"ticks\": \"\"}}, \"marker\": {\"colorbar\": {\"outlinewidth\": 0, \"ticks\": \"\"}}, \"type\": \"scatter3d\"}], \"scattercarpet\": [{\"marker\": {\"colorbar\": {\"outlinewidth\": 0, \"ticks\": \"\"}}, \"type\": \"scattercarpet\"}], \"scattergeo\": [{\"marker\": {\"colorbar\": {\"outlinewidth\": 0, \"ticks\": \"\"}}, \"type\": \"scattergeo\"}], \"scattergl\": [{\"marker\": {\"colorbar\": {\"outlinewidth\": 0, \"ticks\": \"\"}}, \"type\": \"scattergl\"}], \"scattermapbox\": [{\"marker\": {\"colorbar\": {\"outlinewidth\": 0, \"ticks\": \"\"}}, \"type\": \"scattermapbox\"}], \"scatterpolar\": [{\"marker\": {\"colorbar\": {\"outlinewidth\": 0, \"ticks\": \"\"}}, \"type\": \"scatterpolar\"}], \"scatterpolargl\": [{\"marker\": {\"colorbar\": {\"outlinewidth\": 0, \"ticks\": \"\"}}, \"type\": \"scatterpolargl\"}], \"scatterternary\": [{\"marker\": {\"colorbar\": {\"outlinewidth\": 0, \"ticks\": \"\"}}, \"type\": \"scatterternary\"}], \"surface\": [{\"colorbar\": {\"outlinewidth\": 0, \"ticks\": \"\"}, \"colorscale\": [[0.0, \"#0d0887\"], [0.1111111111111111, \"#46039f\"], [0.2222222222222222, \"#7201a8\"], [0.3333333333333333, \"#9c179e\"], [0.4444444444444444, \"#bd3786\"], [0.5555555555555556, \"#d8576b\"], [0.6666666666666666, \"#ed7953\"], [0.7777777777777778, \"#fb9f3a\"], [0.8888888888888888, \"#fdca26\"], [1.0, \"#f0f921\"]], \"type\": \"surface\"}], \"table\": [{\"cells\": {\"fill\": {\"color\": \"#EBF0F8\"}, \"line\": {\"color\": \"white\"}}, \"header\": {\"fill\": {\"color\": \"#C8D4E3\"}, \"line\": {\"color\": \"white\"}}, \"type\": \"table\"}]}, \"layout\": {\"annotationdefaults\": {\"arrowcolor\": \"#2a3f5f\", \"arrowhead\": 0, \"arrowwidth\": 1}, \"coloraxis\": {\"colorbar\": {\"outlinewidth\": 0, \"ticks\": \"\"}}, \"colorscale\": {\"diverging\": [[0, \"#8e0152\"], [0.1, \"#c51b7d\"], [0.2, \"#de77ae\"], [0.3, \"#f1b6da\"], [0.4, \"#fde0ef\"], [0.5, \"#f7f7f7\"], [0.6, \"#e6f5d0\"], [0.7, \"#b8e186\"], [0.8, \"#7fbc41\"], [0.9, \"#4d9221\"], [1, \"#276419\"]], \"sequential\": [[0.0, \"#0d0887\"], [0.1111111111111111, \"#46039f\"], [0.2222222222222222, \"#7201a8\"], [0.3333333333333333, \"#9c179e\"], [0.4444444444444444, \"#bd3786\"], [0.5555555555555556, \"#d8576b\"], [0.6666666666666666, \"#ed7953\"], [0.7777777777777778, \"#fb9f3a\"], [0.8888888888888888, \"#fdca26\"], [1.0, \"#f0f921\"]], \"sequentialminus\": [[0.0, \"#0d0887\"], [0.1111111111111111, \"#46039f\"], [0.2222222222222222, \"#7201a8\"], [0.3333333333333333, \"#9c179e\"], [0.4444444444444444, \"#bd3786\"], [0.5555555555555556, \"#d8576b\"], [0.6666666666666666, \"#ed7953\"], [0.7777777777777778, \"#fb9f3a\"], [0.8888888888888888, \"#fdca26\"], [1.0, \"#f0f921\"]]}, \"colorway\": [\"#636efa\", \"#EF553B\", \"#00cc96\", \"#ab63fa\", \"#FFA15A\", \"#19d3f3\", \"#FF6692\", \"#B6E880\", \"#FF97FF\", \"#FECB52\"], \"font\": {\"color\": \"#2a3f5f\"}, \"geo\": {\"bgcolor\": \"white\", \"lakecolor\": \"white\", \"landcolor\": \"#E5ECF6\", \"showlakes\": true, \"showland\": true, \"subunitcolor\": \"white\"}, \"hoverlabel\": {\"align\": \"left\"}, \"hovermode\": \"closest\", \"mapbox\": {\"style\": \"light\"}, \"paper_bgcolor\": \"white\", \"plot_bgcolor\": \"#E5ECF6\", \"polar\": {\"angularaxis\": {\"gridcolor\": \"white\", \"linecolor\": \"white\", \"ticks\": \"\"}, \"bgcolor\": \"#E5ECF6\", \"radialaxis\": {\"gridcolor\": \"white\", \"linecolor\": \"white\", \"ticks\": \"\"}}, \"scene\": {\"xaxis\": {\"backgroundcolor\": \"#E5ECF6\", \"gridcolor\": \"white\", \"gridwidth\": 2, \"linecolor\": \"white\", \"showbackground\": true, \"ticks\": \"\", \"zerolinecolor\": \"white\"}, \"yaxis\": {\"backgroundcolor\": \"#E5ECF6\", \"gridcolor\": \"white\", \"gridwidth\": 2, \"linecolor\": \"white\", \"showbackground\": true, \"ticks\": \"\", \"zerolinecolor\": \"white\"}, \"zaxis\": {\"backgroundcolor\": \"#E5ECF6\", \"gridcolor\": \"white\", \"gridwidth\": 2, \"linecolor\": \"white\", \"showbackground\": true, \"ticks\": \"\", \"zerolinecolor\": \"white\"}}, \"shapedefaults\": {\"line\": {\"color\": \"#2a3f5f\"}}, \"ternary\": {\"aaxis\": {\"gridcolor\": \"white\", \"linecolor\": \"white\", \"ticks\": \"\"}, \"baxis\": {\"gridcolor\": \"white\", \"linecolor\": \"white\", \"ticks\": \"\"}, \"bgcolor\": \"#E5ECF6\", \"caxis\": {\"gridcolor\": \"white\", \"linecolor\": \"white\", \"ticks\": \"\"}}, \"title\": {\"x\": 0.05}, \"xaxis\": {\"automargin\": true, \"gridcolor\": \"white\", \"linecolor\": \"white\", \"ticks\": \"\", \"title\": {\"standoff\": 15}, \"zerolinecolor\": \"white\", \"zerolinewidth\": 2}, \"yaxis\": {\"automargin\": true, \"gridcolor\": \"white\", \"linecolor\": \"white\", \"ticks\": \"\", \"title\": {\"standoff\": 15}, \"zerolinecolor\": \"white\", \"zerolinewidth\": 2}}}, \"title\": {\"font\": {\"size\": 16}, \"text\": \"KGML graph for path: 1- and 2-Methylnaphthalene degradation(Kegg), sample: 0\"}, \"xaxis\": {\"showgrid\": false, \"showticklabels\": false, \"zeroline\": false}, \"yaxis\": {\"showgrid\": false, \"showticklabels\": false, \"zeroline\": false}},\n",
              "                        {\"responsive\": true}\n",
              "                    ).then(function(){\n",
              "                            \n",
              "var gd = document.getElementById('aa4c1c58-a99a-4d25-ac61-30f33f7149b5');\n",
              "var x = new MutationObserver(function (mutations, observer) {{\n",
              "        var display = window.getComputedStyle(gd).display;\n",
              "        if (!display || display === 'none') {{\n",
              "            console.log([gd, 'removed!']);\n",
              "            Plotly.purge(gd);\n",
              "            observer.disconnect();\n",
              "        }}\n",
              "}});\n",
              "\n",
              "// Listen for the removal of the full notebook cells\n",
              "var notebookContainer = gd.closest('#notebook-container');\n",
              "if (notebookContainer) {{\n",
              "    x.observe(notebookContainer, {childList: true});\n",
              "}}\n",
              "\n",
              "// Listen for the clearing of the current output cell\n",
              "var outputEl = gd.closest('.output');\n",
              "if (outputEl) {{\n",
              "    x.observe(outputEl, {childList: true});\n",
              "}}\n",
              "\n",
              "                        })\n",
              "                };\n",
              "                \n",
              "            </script>\n",
              "        </div>\n",
              "</body>\n",
              "</html>"
            ]
          },
          "metadata": {
            "tags": []
          }
        },
        {
          "output_type": "stream",
          "text": [
            "Create Kegg XML for path: 708708, sample: 0\n",
            "<?xml version=\"1.0\"?>\n",
            "<!DOCTYPE pathway SYSTEM \"https://www.kegg.jp/kegg/xml/KGML_v0.7.2_.dtd\">\n",
            "<pathway name=\"path:hsa708708\" number=\"111\" org=\"hsa\" title=\"1- and 2-Methylnaphthalene degradation(Kegg)\">\n",
            " <entry id=\"708648\" link=\"https://www.kegg.jp/dbget-bin/www_bget?hsa:4967+hsa:708648\" name=\"hsa:4967 hsa:fm_708637\" type=\"protein\">\n",
            "  <graphics bgcolor=\"#42ECEF\" fgcolor=\"#FF0000\" height=\"17\" name=\"fm_708637\" type=\"rectangle\" width=\"60\" x=\"1.0\">\n",
            "  </graphics>\n",
            " </entry>\n",
            " <entry id=\"708709\" link=\"https://www.kegg.jp/dbget-bin/www_bget?C00158\" name=\"708709\" type=\"reaction\">\n",
            "  <graphics bgcolor=\"#FFF8F8\" fgcolor=\"#FF0000\" height=\"15\" name=\"reaction\" type=\"circle\" width=\"60\" x=\"1.0\" y=\"1.0\">\n",
            "  </graphics>\n",
            " </entry>\n",
            " <relation entry1=\"708648\" entry2=\"708709\" type=\"PPrel\">\n",
            "  <subtype name=\"activation\" value=\"--&gt;\">\n",
            "  </subtype>\n",
            " </relation>\n",
            " <entry id=\"708651\" link=\"https://www.kegg.jp/dbget-bin/www_bget?hsa:4967+hsa:708651\" name=\"hsa:4967 hsa:2-Naphthoic acid\" type=\"protein\">\n",
            "  <graphics bgcolor=\"#42ECEF\" fgcolor=\"#FF0000\" height=\"17\" name=\"2-Naphthoic acid\" type=\"rectangle\" width=\"60\" x=\"1.0\">\n",
            "  </graphics>\n",
            " </entry>\n",
            " <relation entry1=\"708709\" entry2=\"708651\" type=\"PPrel\">\n",
            "  <subtype name=\"activation\" value=\"--&gt;\">\n",
            "  </subtype>\n",
            " </relation>\n",
            " <entry id=\"708655\" link=\"https://www.kegg.jp/dbget-bin/www_bget?hsa:4967+hsa:708655\" name=\"hsa:4967 hsa:2-Naphthoyl-CoA\" type=\"protein\">\n",
            "  <graphics bgcolor=\"#42ECEF\" fgcolor=\"#FF0000\" height=\"17\" name=\"2-Naphthoyl-CoA\" type=\"rectangle\" width=\"60\" x=\"1.0\">\n",
            "  </graphics>\n",
            " </entry>\n",
            " <relation entry1=\"708655\" entry2=\"708709\" type=\"PPrel\">\n",
            "  <subtype name=\"activation\" value=\"--&gt;\">\n",
            "  </subtype>\n",
            " </relation>\n",
            " <entry id=\"708710\" link=\"https://www.kegg.jp/dbget-bin/www_bget?C00158\" name=\"708710\" type=\"reaction\">\n",
            "  <graphics bgcolor=\"#FFF8F8\" fgcolor=\"#FF0000\" height=\"15\" name=\"reaction\" type=\"circle\" width=\"60\" x=\"1.0\" y=\"1.0\">\n",
            "  </graphics>\n",
            " </entry>\n",
            " <relation entry1=\"708710\" entry2=\"708655\" type=\"PPrel\">\n",
            "  <subtype name=\"activation\" value=\"--&gt;\">\n",
            "  </subtype>\n",
            " </relation>\n",
            " <relation entry1=\"708648\" entry2=\"708710\" type=\"PPrel\">\n",
            "  <subtype name=\"activation\" value=\"--&gt;\">\n",
            "  </subtype>\n",
            " </relation>\n",
            " <entry id=\"708649\" link=\"https://www.kegg.jp/dbget-bin/www_bget?hsa:4967+hsa:708649\" name=\"hsa:4967 hsa:Succinyl-CoA\" type=\"protein\">\n",
            "  <graphics bgcolor=\"#42ECEF\" fgcolor=\"#FF0000\" height=\"17\" name=\"Succinyl-CoA\" type=\"rectangle\" width=\"60\" x=\"1.0\">\n",
            "  </graphics>\n",
            " </entry>\n",
            " <relation entry1=\"708710\" entry2=\"708649\" type=\"PPrel\">\n",
            "  <subtype name=\"activation\" value=\"--&gt;\">\n",
            "  </subtype>\n",
            " </relation>\n",
            " <entry id=\"708704\" link=\"https://www.kegg.jp/dbget-bin/www_bget?hsa:4967+hsa:708704\" name=\"hsa:4967 hsa:Naphthyl-2-oxomethyl-succinyl-CoA\" type=\"protein\">\n",
            "  <graphics bgcolor=\"#42ECEF\" fgcolor=\"#FF0000\" height=\"17\" name=\"Naphthyl-2-oxomethyl-succinyl-CoA\" type=\"rectangle\" width=\"60\" x=\"1.0\">\n",
            "  </graphics>\n",
            " </entry>\n",
            " <relation entry1=\"708704\" entry2=\"708710\" type=\"PPrel\">\n",
            "  <subtype name=\"activation\" value=\"--&gt;\">\n",
            "  </subtype>\n",
            " </relation>\n",
            " <entry id=\"708673\" link=\"https://www.kegg.jp/dbget-bin/www_bget?hsa:4967+hsa:708673\" name=\"hsa:4967 hsa:fm_708665\" type=\"protein\">\n",
            "  <graphics bgcolor=\"#42ECEF\" fgcolor=\"#FF0000\" height=\"17\" name=\"fm_708665\" type=\"rectangle\" width=\"60\" x=\"1.0\">\n",
            "  </graphics>\n",
            " </entry>\n",
            " <entry id=\"708711\" link=\"https://www.kegg.jp/dbget-bin/www_bget?C00158\" name=\"708711\" type=\"reaction\">\n",
            "  <graphics bgcolor=\"#FFF8F8\" fgcolor=\"#FF0000\" height=\"15\" name=\"reaction\" type=\"circle\" width=\"60\" x=\"1.0\" y=\"1.0\">\n",
            "  </graphics>\n",
            " </entry>\n",
            " <relation entry1=\"708673\" entry2=\"708711\" type=\"PPrel\">\n",
            "  <subtype name=\"activation\" value=\"--&gt;\">\n",
            "  </subtype>\n",
            " </relation>\n",
            " <entry id=\"708680\" link=\"https://www.kegg.jp/dbget-bin/www_bget?hsa:4967+hsa:708680\" name=\"hsa:4967 hsa:1-Naphthaldehyde\" type=\"protein\">\n",
            "  <graphics bgcolor=\"#42ECEF\" fgcolor=\"#FF0000\" height=\"17\" name=\"1-Naphthaldehyde\" type=\"rectangle\" width=\"60\" x=\"1.0\">\n",
            "  </graphics>\n",
            " </entry>\n",
            " <relation entry1=\"708711\" entry2=\"708680\" type=\"PPrel\">\n",
            "  <subtype name=\"activation\" value=\"--&gt;\">\n",
            "  </subtype>\n",
            " </relation>\n",
            " <entry id=\"708682\" link=\"https://www.kegg.jp/dbget-bin/www_bget?hsa:4967+hsa:708682\" name=\"hsa:4967 hsa:1-Naphthalenemethanol\" type=\"protein\">\n",
            "  <graphics bgcolor=\"#42ECEF\" fgcolor=\"#FF0000\" height=\"17\" name=\"1-Naphthalenemethanol\" type=\"rectangle\" width=\"60\" x=\"1.0\">\n",
            "  </graphics>\n",
            " </entry>\n",
            " <relation entry1=\"708682\" entry2=\"708711\" type=\"PPrel\">\n",
            "  <subtype name=\"activation\" value=\"--&gt;\">\n",
            "  </subtype>\n",
            " </relation>\n",
            " <entry id=\"708677\" link=\"https://www.kegg.jp/dbget-bin/www_bget?hsa:4967+hsa:708677\" name=\"hsa:4967 hsa:fm_708674\" type=\"protein\">\n",
            "  <graphics bgcolor=\"#42ECEF\" fgcolor=\"#00FF00\" height=\"17\" name=\"fm_708674\" type=\"rectangle\" width=\"60\" x=\"0.0\">\n",
            "  </graphics>\n",
            " </entry>\n",
            " <entry id=\"708712\" link=\"https://www.kegg.jp/dbget-bin/www_bget?C00158\" name=\"708712\" type=\"reaction\">\n",
            "  <graphics bgcolor=\"#FFF8F8\" fgcolor=\"#00FF00\" height=\"15\" name=\"reaction\" type=\"circle\" width=\"60\" x=\"0.0\" y=\"0.0\">\n",
            "  </graphics>\n",
            " </entry>\n",
            " <relation entry1=\"708677\" entry2=\"708712\" type=\"PPrel\">\n",
            "  <subtype name=\"activation\" value=\"--&gt;\">\n",
            "  </subtype>\n",
            " </relation>\n",
            " <entry id=\"708695\" link=\"https://www.kegg.jp/dbget-bin/www_bget?hsa:4967+hsa:708695\" name=\"hsa:4967 hsa:Naphthyl-2-methylene-succinyl-CoA\" type=\"protein\">\n",
            "  <graphics bgcolor=\"#42ECEF\" fgcolor=\"#FF0000\" height=\"17\" name=\"Naphthyl-2-methylene-succinyl-CoA\" type=\"rectangle\" width=\"60\" x=\"1.0\">\n",
            "  </graphics>\n",
            " </entry>\n",
            " <relation entry1=\"708712\" entry2=\"708695\" type=\"PPrel\">\n",
            "  <subtype name=\"activation\" value=\"--&gt;\">\n",
            "  </subtype>\n",
            " </relation>\n",
            " <entry id=\"708688\" link=\"https://www.kegg.jp/dbget-bin/www_bget?hsa:4967+hsa:708688\" name=\"hsa:4967 hsa:Naphthyl-2-methyl-succinyl-CoA\" type=\"protein\">\n",
            "  <graphics bgcolor=\"#42ECEF\" fgcolor=\"#FF0000\" height=\"17\" name=\"Naphthyl-2-methyl-succinyl-CoA\" type=\"rectangle\" width=\"60\" x=\"1.0\">\n",
            "  </graphics>\n",
            " </entry>\n",
            " <relation entry1=\"708688\" entry2=\"708712\" type=\"PPrel\">\n",
            "  <subtype name=\"activation\" value=\"--&gt;\">\n",
            "  </subtype>\n",
            " </relation>\n",
            " <entry id=\"708713\" link=\"https://www.kegg.jp/dbget-bin/www_bget?C00158\" name=\"708713\" type=\"reaction\">\n",
            "  <graphics bgcolor=\"#FFF8F8\" fgcolor=\"#FF0000\" height=\"15\" name=\"reaction\" type=\"circle\" width=\"60\" x=\"1.0\" y=\"1.0\">\n",
            "  </graphics>\n",
            " </entry>\n",
            " <relation entry1=\"708673\" entry2=\"708713\" type=\"PPrel\">\n",
            "  <subtype name=\"activation\" value=\"--&gt;\">\n",
            "  </subtype>\n",
            " </relation>\n",
            " <entry id=\"708652\" link=\"https://www.kegg.jp/dbget-bin/www_bget?hsa:4967+hsa:708652\" name=\"hsa:4967 hsa:2-Naphthaldehyde\" type=\"protein\">\n",
            "  <graphics bgcolor=\"#42ECEF\" fgcolor=\"#FF0000\" height=\"17\" name=\"2-Naphthaldehyde\" type=\"rectangle\" width=\"60\" x=\"1.0\">\n",
            "  </graphics>\n",
            " </entry>\n",
            " <relation entry1=\"708713\" entry2=\"708652\" type=\"PPrel\">\n",
            "  <subtype name=\"activation\" value=\"--&gt;\">\n",
            "  </subtype>\n",
            " </relation>\n",
            " <entry id=\"708653\" link=\"https://www.kegg.jp/dbget-bin/www_bget?hsa:4967+hsa:708653\" name=\"hsa:4967 hsa:(2-Naphthyl)methanol\" type=\"protein\">\n",
            "  <graphics bgcolor=\"#42ECEF\" fgcolor=\"#FF0000\" height=\"17\" name=\"(2-Naphthyl)methanol\" type=\"rectangle\" width=\"60\" x=\"1.0\">\n",
            "  </graphics>\n",
            " </entry>\n",
            " <relation entry1=\"708653\" entry2=\"708713\" type=\"PPrel\">\n",
            "  <subtype name=\"activation\" value=\"--&gt;\">\n",
            "  </subtype>\n",
            " </relation>\n",
            "</pathway>\n"
          ],
          "name": "stdout"
        }
      ]
    },
    {
      "cell_type": "markdown",
      "metadata": {
        "id": "QmCL9OCJrIxr",
        "colab_type": "text"
      },
      "source": [
        "##Pathway Assessment."
      ]
    },
    {
      "cell_type": "markdown",
      "metadata": {
        "id": "uQKP8J8frLS-",
        "colab_type": "text"
      },
      "source": [
        "A pathway can be assessed by differentiating two classed of samples (e.g. cancer vs. normal). A two sample ranksum test is perfomed to evaluate the null hypothesis that pathway scores of class A and class B are sampled from distributions with equal mean and variance. Significant pathways are those for which the null hypothesis is highly unlikely indicating that the pathway behaves differently in these two groups of samples."
      ]
    },
    {
      "cell_type": "code",
      "metadata": {
        "id": "euopYfePr9Yb",
        "colab_type": "code",
        "colab": {}
      },
      "source": [
        "pathname = '1-and 2-Methylnaphthalene degradation(Kegg)\n",
        "data1 = pd.read_csv('output_activity1.csv')\n",
        "data1 = data1.loc[data1.path_name == pathname]\n",
        "data2 = pd.read_csv('output_activity2.csv')\n",
        "data2 = data2.loc[data2.path_name == pathname]\n",
        "n1 = len(data1)\n",
        "n2 = len(data2)\n",
        "m_u = n1 * n2 * 0.5\n",
        "stat, p = mann(data1.Activity, data2.Activity)\n",
        "# sigma_u = np.sqrt(n1*n2*(n1+n2+1)*(10/12))\n",
        "print(\n",
        "    f'Stat: {stat}, P-value: {p}, n1: {n1}, n2: {n2}')"
      ],
      "execution_count": null,
      "outputs": []
    }
  ]
}