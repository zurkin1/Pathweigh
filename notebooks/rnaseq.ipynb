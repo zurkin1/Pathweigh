{
 "cells": [
  {
   "cell_type": "markdown",
   "metadata": {
    "colab_type": "text",
    "id": "view-in-github"
   },
   "source": [
    "<a href=\"https://colab.research.google.com/github/zurkin1/Pathweigh/blob/master/Pathweigh.ipynb\" target=\"_parent\"><img src=\"https://colab.research.google.com/assets/colab-badge.svg\" alt=\"Open In Colab\"/></a>"
   ]
  },
  {
   "cell_type": "markdown",
   "metadata": {
    "id": "On-yyCe7trKO"
   },
   "source": [
    "# Pathweigh Analysis."
   ]
  },
  {
   "cell_type": "markdown",
   "metadata": {
    "id": "XG1woi1NceWy"
   },
   "source": [
    "- This notebook demonstrates running analysis of pathway analysis of sequencing data of type RNAseq. The input file is located in the data folder.\n",
    "\n",
    "- The input file is named input.csv and is a next gen RNA sequence data.\n",
    "- A sample file is provided. Please ignore its content. This is just a sample file to demonstrate the flow.\n",
    "- We need to make sure that:\n",
    "<ol>\n",
    "<li> The normalization methods are either TPM or RPKM or FPKM. This is important since the default behaviour in UDP.py assumes negative binomial distribution of the genes. If you are familiar with Python you can edit udp.py and select other distribution that are provided there as well.\n",
    "<li> We need to make sure to configure the following parameter is_rnaseq == True.\n",
    "<li> Gene names follow HUGO standard as defined for example in https://www.genenames.org/.\n",
    "</ol>"
   ]
  },
  {
   "cell_type": "markdown",
   "metadata": {
    "id": "FEyiupK8trKW"
   },
   "source": [
    "## Calculate UDP per Gene.\n",
    "Here we calculate the Up or Down Probability per gene, for all pathways."
   ]
  },
  {
   "cell_type": "code",
   "execution_count": 1,
   "metadata": {},
   "outputs": [
    {
     "name": "stdout",
     "output_type": "stream",
     "text": [
      "C:\\Users\\user\\Documents\\GitHub\\Pathweigh\n"
     ]
    }
   ],
   "source": [
    "%cd .."
   ]
  },
  {
   "cell_type": "code",
   "execution_count": 3,
   "metadata": {
    "colab": {
     "base_uri": "https://localhost:8080/",
     "height": 289
    },
    "id": "9ZuxbDMqtrKX",
    "outputId": "fe63ff4b-5056-448e-c140-b20d0025193d"
   },
   "outputs": [
    {
     "name": "stdout",
     "output_type": "stream",
     "text": [
      "Tue May 23 22:21:23 2023 Calculate UDP, is_rnaseq: True\n",
      "..................................................Tue May 23 22:27:55 2023 Done.\n"
     ]
    }
   ],
   "source": [
    "from udp import *\n",
    "\n",
    "calc_udp_multi_process(is_rnaseq = True)"
   ]
  },
  {
   "cell_type": "markdown",
   "metadata": {},
   "source": [
    "## Calculate Activity For all Samples and For All Pathways."
   ]
  },
  {
   "cell_type": "code",
   "execution_count": 2,
   "metadata": {},
   "outputs": [
    {
     "name": "stdout",
     "output_type": "stream",
     "text": [
      "Tue May 23 23:27:11 2023 Init activity object\n",
      "Tue May 23 23:27:11 2023 Calculate activity and consistency...\n",
      ".Tue May 23 23:27:24 2023 Done.\n"
     ]
    },
    {
     "data": {
      "text/html": [
       "<div>\n",
       "<style scoped>\n",
       "    .dataframe tbody tr th:only-of-type {\n",
       "        vertical-align: middle;\n",
       "    }\n",
       "\n",
       "    .dataframe tbody tr th {\n",
       "        vertical-align: top;\n",
       "    }\n",
       "\n",
       "    .dataframe thead th {\n",
       "        text-align: right;\n",
       "    }\n",
       "</style>\n",
       "<table border=\"1\" class=\"dataframe\">\n",
       "  <thead>\n",
       "    <tr style=\"text-align: right;\">\n",
       "      <th>sampleID</th>\n",
       "      <th>17-002</th>\n",
       "      <th>17-006</th>\n",
       "      <th>17-019</th>\n",
       "      <th>17-023</th>\n",
       "      <th>17-026</th>\n",
       "      <th>17-027</th>\n",
       "      <th>17-030</th>\n",
       "      <th>17-034</th>\n",
       "      <th>17-040</th>\n",
       "      <th>17-041</th>\n",
       "      <th>17-042</th>\n",
       "      <th>17-043</th>\n",
       "      <th>17-045</th>\n",
       "      <th>17-047</th>\n",
       "      <th>17-054</th>\n",
       "      <th>17-055</th>\n",
       "      <th>17-057</th>\n",
       "      <th>17-058</th>\n",
       "      <th>17-060</th>\n",
       "      <th>17-061</th>\n",
       "    </tr>\n",
       "    <tr>\n",
       "      <th>path_name</th>\n",
       "      <th></th>\n",
       "      <th></th>\n",
       "      <th></th>\n",
       "      <th></th>\n",
       "      <th></th>\n",
       "      <th></th>\n",
       "      <th></th>\n",
       "      <th></th>\n",
       "      <th></th>\n",
       "      <th></th>\n",
       "      <th></th>\n",
       "      <th></th>\n",
       "      <th></th>\n",
       "      <th></th>\n",
       "      <th></th>\n",
       "      <th></th>\n",
       "      <th></th>\n",
       "      <th></th>\n",
       "      <th></th>\n",
       "      <th></th>\n",
       "    </tr>\n",
       "  </thead>\n",
       "  <tbody>\n",
       "    <tr>\n",
       "      <th>1- and 2-Methylnaphthalene degradation(Kegg)</th>\n",
       "      <td>0.632876</td>\n",
       "      <td>0.656807</td>\n",
       "      <td>0.557137</td>\n",
       "      <td>0.424184</td>\n",
       "      <td>0.473169</td>\n",
       "      <td>0.438492</td>\n",
       "      <td>0.46656</td>\n",
       "      <td>0.6425</td>\n",
       "      <td>0.623339</td>\n",
       "      <td>0.582405</td>\n",
       "      <td>0.56237</td>\n",
       "      <td>0.632876</td>\n",
       "      <td>0.471554</td>\n",
       "      <td>0.582405</td>\n",
       "      <td>0.53638</td>\n",
       "      <td>0.595516</td>\n",
       "      <td>0.558011</td>\n",
       "      <td>0.563706</td>\n",
       "      <td>0.64113</td>\n",
       "      <td>0.576818</td>\n",
       "    </tr>\n",
       "    <tr>\n",
       "      <th>1-4-Dichlorobenzene degradation(Kegg)</th>\n",
       "      <td>0.0</td>\n",
       "      <td>0.0</td>\n",
       "      <td>0.0</td>\n",
       "      <td>0.0</td>\n",
       "      <td>0.0</td>\n",
       "      <td>0.0</td>\n",
       "      <td>0.0</td>\n",
       "      <td>0.0</td>\n",
       "      <td>0.0</td>\n",
       "      <td>0.0</td>\n",
       "      <td>0.0</td>\n",
       "      <td>0.0</td>\n",
       "      <td>0.0</td>\n",
       "      <td>0.0</td>\n",
       "      <td>0.0</td>\n",
       "      <td>0.0</td>\n",
       "      <td>0.0</td>\n",
       "      <td>0.0</td>\n",
       "      <td>0.0</td>\n",
       "      <td>0.0</td>\n",
       "    </tr>\n",
       "    <tr>\n",
       "      <th>3-Chloroacrylic acid degradation(Kegg)</th>\n",
       "      <td>0.779011</td>\n",
       "      <td>0.817806</td>\n",
       "      <td>0.796039</td>\n",
       "      <td>0.7341</td>\n",
       "      <td>0.68915</td>\n",
       "      <td>0.723182</td>\n",
       "      <td>0.829729</td>\n",
       "      <td>0.791842</td>\n",
       "      <td>0.725207</td>\n",
       "      <td>0.724963</td>\n",
       "      <td>0.827948</td>\n",
       "      <td>0.796039</td>\n",
       "      <td>0.743906</td>\n",
       "      <td>0.724963</td>\n",
       "      <td>0.675395</td>\n",
       "      <td>0.759734</td>\n",
       "      <td>0.678203</td>\n",
       "      <td>0.819587</td>\n",
       "      <td>0.685988</td>\n",
       "      <td>0.75756</td>\n",
       "    </tr>\n",
       "    <tr>\n",
       "      <th>Acute myeloid leukemia(Kegg)</th>\n",
       "      <td>0.359899</td>\n",
       "      <td>0.365481</td>\n",
       "      <td>0.398714</td>\n",
       "      <td>0.345536</td>\n",
       "      <td>0.344096</td>\n",
       "      <td>0.316362</td>\n",
       "      <td>0.377824</td>\n",
       "      <td>0.383984</td>\n",
       "      <td>0.460113</td>\n",
       "      <td>0.342276</td>\n",
       "      <td>0.392314</td>\n",
       "      <td>0.2915</td>\n",
       "      <td>0.337403</td>\n",
       "      <td>0.355758</td>\n",
       "      <td>0.366264</td>\n",
       "      <td>0.423215</td>\n",
       "      <td>0.361883</td>\n",
       "      <td>0.257353</td>\n",
       "      <td>0.37749</td>\n",
       "      <td>0.33395</td>\n",
       "    </tr>\n",
       "    <tr>\n",
       "      <th>Adherens junction(Kegg)</th>\n",
       "      <td>0.233236</td>\n",
       "      <td>0.243647</td>\n",
       "      <td>0.28955</td>\n",
       "      <td>0.228519</td>\n",
       "      <td>0.178912</td>\n",
       "      <td>0.215123</td>\n",
       "      <td>0.280066</td>\n",
       "      <td>0.306218</td>\n",
       "      <td>0.269894</td>\n",
       "      <td>0.281987</td>\n",
       "      <td>0.309846</td>\n",
       "      <td>0.306717</td>\n",
       "      <td>0.294797</td>\n",
       "      <td>0.255783</td>\n",
       "      <td>0.27215</td>\n",
       "      <td>0.302786</td>\n",
       "      <td>0.247442</td>\n",
       "      <td>0.19818</td>\n",
       "      <td>0.21534</td>\n",
       "      <td>0.297161</td>\n",
       "    </tr>\n",
       "  </tbody>\n",
       "</table>\n",
       "</div>"
      ],
      "text/plain": [
       "sampleID                                        17-002    17-006    17-019  \\\n",
       "path_name                                                                    \n",
       "1- and 2-Methylnaphthalene degradation(Kegg)  0.632876  0.656807  0.557137   \n",
       "1-4-Dichlorobenzene degradation(Kegg)              0.0       0.0       0.0   \n",
       "3-Chloroacrylic acid degradation(Kegg)        0.779011  0.817806  0.796039   \n",
       "Acute myeloid leukemia(Kegg)                  0.359899  0.365481  0.398714   \n",
       "Adherens junction(Kegg)                       0.233236  0.243647   0.28955   \n",
       "\n",
       "sampleID                                        17-023    17-026    17-027  \\\n",
       "path_name                                                                    \n",
       "1- and 2-Methylnaphthalene degradation(Kegg)  0.424184  0.473169  0.438492   \n",
       "1-4-Dichlorobenzene degradation(Kegg)              0.0       0.0       0.0   \n",
       "3-Chloroacrylic acid degradation(Kegg)          0.7341   0.68915  0.723182   \n",
       "Acute myeloid leukemia(Kegg)                  0.345536  0.344096  0.316362   \n",
       "Adherens junction(Kegg)                       0.228519  0.178912  0.215123   \n",
       "\n",
       "sampleID                                        17-030    17-034    17-040  \\\n",
       "path_name                                                                    \n",
       "1- and 2-Methylnaphthalene degradation(Kegg)   0.46656    0.6425  0.623339   \n",
       "1-4-Dichlorobenzene degradation(Kegg)              0.0       0.0       0.0   \n",
       "3-Chloroacrylic acid degradation(Kegg)        0.829729  0.791842  0.725207   \n",
       "Acute myeloid leukemia(Kegg)                  0.377824  0.383984  0.460113   \n",
       "Adherens junction(Kegg)                       0.280066  0.306218  0.269894   \n",
       "\n",
       "sampleID                                        17-041    17-042    17-043  \\\n",
       "path_name                                                                    \n",
       "1- and 2-Methylnaphthalene degradation(Kegg)  0.582405   0.56237  0.632876   \n",
       "1-4-Dichlorobenzene degradation(Kegg)              0.0       0.0       0.0   \n",
       "3-Chloroacrylic acid degradation(Kegg)        0.724963  0.827948  0.796039   \n",
       "Acute myeloid leukemia(Kegg)                  0.342276  0.392314    0.2915   \n",
       "Adherens junction(Kegg)                       0.281987  0.309846  0.306717   \n",
       "\n",
       "sampleID                                        17-045    17-047    17-054  \\\n",
       "path_name                                                                    \n",
       "1- and 2-Methylnaphthalene degradation(Kegg)  0.471554  0.582405   0.53638   \n",
       "1-4-Dichlorobenzene degradation(Kegg)              0.0       0.0       0.0   \n",
       "3-Chloroacrylic acid degradation(Kegg)        0.743906  0.724963  0.675395   \n",
       "Acute myeloid leukemia(Kegg)                  0.337403  0.355758  0.366264   \n",
       "Adherens junction(Kegg)                       0.294797  0.255783   0.27215   \n",
       "\n",
       "sampleID                                        17-055    17-057    17-058  \\\n",
       "path_name                                                                    \n",
       "1- and 2-Methylnaphthalene degradation(Kegg)  0.595516  0.558011  0.563706   \n",
       "1-4-Dichlorobenzene degradation(Kegg)              0.0       0.0       0.0   \n",
       "3-Chloroacrylic acid degradation(Kegg)        0.759734  0.678203  0.819587   \n",
       "Acute myeloid leukemia(Kegg)                  0.423215  0.361883  0.257353   \n",
       "Adherens junction(Kegg)                       0.302786  0.247442   0.19818   \n",
       "\n",
       "sampleID                                        17-060    17-061  \n",
       "path_name                                                         \n",
       "1- and 2-Methylnaphthalene degradation(Kegg)   0.64113  0.576818  \n",
       "1-4-Dichlorobenzene degradation(Kegg)              0.0       0.0  \n",
       "3-Chloroacrylic acid degradation(Kegg)        0.685988   0.75756  \n",
       "Acute myeloid leukemia(Kegg)                   0.37749   0.33395  \n",
       "Adherens junction(Kegg)                        0.21534  0.297161  "
      ]
     },
     "execution_count": 2,
     "metadata": {},
     "output_type": "execute_result"
    }
   ],
   "source": [
    "from udp import *\n",
    "from activity import *\n",
    "\n",
    "\n",
    "udp = pd.read_csv('./data/output_udp.csv', index_col=0, encoding=\"utf-8\")\n",
    "activity_obj = path_activity(udp, is_rnaseq = True)\n",
    "activity = activity_obj.calc_activity_consistency_multi_process() #Output is saved to output_activity.csv.\n",
    "\n",
    "activity_obj.activity.head()"
   ]
  },
  {
   "cell_type": "markdown",
   "metadata": {
    "id": "W1WizDoVb3xq"
   },
   "source": [
    "## Draw a Heatmap For Path Activity."
   ]
  },
  {
   "cell_type": "code",
   "execution_count": 9,
   "metadata": {},
   "outputs": [
    {
     "data": {
      "application/vnd.jupyter.widget-view+json": {
       "model_id": "73e10ca9a37a4af8bf5a737dcbd653b2",
       "version_major": 2,
       "version_minor": 0
      },
      "text/plain": [
       "FigureWidget({\n",
       "    'data': [{'type': 'heatmap',\n",
       "              'uid': 'c883a235-c6e7-4509-aef1-c0ae0a00fb3c',\n",
       " …"
      ]
     },
     "metadata": {},
     "output_type": "display_data"
    }
   ],
   "source": [
    "import plotly.express as px\n",
    "import plotly.graph_objects as go\n",
    "\n",
    "\n",
    "sample_num = 0\n",
    "path_id = 708708 #1-and 2-Methylnaphthalene degradation(Kegg).\n",
    "\n",
    "df = activity_obj.activity.transpose()\n",
    "\n",
    "#for col in df:\n",
    "#    if df[col].mean() < 0.5:\n",
    "#        df.drop(col, inplace=True, axis=1)\n",
    "\n",
    "#fig = px.imshow(df, text_auto = True, aspect = 'auto', width = 1000, height = 800)\n",
    "fig = go.FigureWidget(go.Heatmap(x=df.columns, y=df.index, z=df.to_numpy()))\n",
    "fig.update_layout(width = 1000, height = 1000)\n",
    "\n",
    "#Create our callback function.\n",
    "hmap = fig.data[0]\n",
    "fig.layout.hovermode = 'closest'\n",
    "\n",
    "def update_point(trace, points, selector):\n",
    "    path_id = points.xs[0]\n",
    "    sample_num = points.ys[0]\n",
    "    activity_obj.graphparser(path_id=path_id, sample_num=sample_num)\n",
    "    #xml_result = activity_obj.xmlparser(path_id=path_id, sample_num=sample_num)\n",
    "\n",
    "\n",
    "hmap.on_click(update_point)\n",
    "\n",
    "fig"
   ]
  },
  {
   "cell_type": "markdown",
   "metadata": {
    "id": "xNDg8AG8-uzW"
   },
   "source": [
    "## Download a KGML File to Import to Cytoscape.\n",
    "\n",
    "\n",
    "- Configure sample_num.\n",
    "- Configure path_id for analysis and export. Use the following table:\n",
    "https://github.com/zurkin1/Pathweigh/blob/master/README.md."
   ]
  },
  {
   "cell_type": "code",
   "execution_count": 4,
   "metadata": {
    "colab": {
     "base_uri": "https://localhost:8080/",
     "height": 1000
    },
    "id": "VGtLhnI5UUCv",
    "outputId": "f049b9b3-4795-4899-b6d2-85599742ee2e"
   },
   "outputs": [
    {
     "name": "stdout",
     "output_type": "stream",
     "text": [
      "Create Kegg XML for path: 708708, sample: 0\n",
      "<?xml version=\"1.0\"?>\n",
      "<!DOCTYPE pathway SYSTEM \"https://www.kegg.jp/kegg/xml/KGML_v0.7.2_.dtd\">\n",
      "<html>\n",
      " <body>\n",
      "  <pathway name=\"path:hsa708708\" number=\"111\" org=\"hsa\" title=\"1- and 2-Methylnaphthalene degradation(Kegg)\">\n",
      "   <entry id=\"708648\" link=\"https://www.kegg.jp/dbget-bin/www_bget?hsa:4967+hsa:708648\" name=\"hsa:4967 hsa:fm_708637\" type=\"protein\">\n",
      "    <graphics bgcolor=\"#42ECEF\" fgcolor=\"#FF4400\" height=\"17\" name=\"fm_708637\" type=\"rectangle\" width=\"60\" x=\"0.8885235533793074\">\n",
      "    </graphics>\n",
      "   </entry>\n",
      "   <entry id=\"708709\" link=\"https://www.kegg.jp/dbget-bin/www_bget?C00158\" name=\"708709\" type=\"reaction\">\n",
      "    <graphics bgcolor=\"#FFF8F8\" fgcolor=\"#FF4400\" height=\"15\" name=\"reaction\" type=\"circle\" width=\"60\" x=\"0.8885235533793074\" y=\"0.8885235533793074\">\n",
      "    </graphics>\n",
      "   </entry>\n",
      "   <relation entry1=\"708648\" entry2=\"708709\" type=\"PPrel\">\n",
      "    <subtype name=\"activation\" value=\"--&gt;\">\n",
      "    </subtype>\n",
      "   </relation>\n",
      "   <entry id=\"708651\" link=\"https://www.kegg.jp/dbget-bin/www_bget?hsa:4967+hsa:708651\" name=\"hsa:4967 hsa:2-Naphthoic acid\" type=\"protein\">\n",
      "    <graphics bgcolor=\"#42ECEF\" fgcolor=\"#FF0000\" height=\"17\" name=\"2-Naphthoic acid\" type=\"rectangle\" width=\"60\" x=\"1.0\">\n",
      "    </graphics>\n",
      "   </entry>\n",
      "   <relation entry1=\"708709\" entry2=\"708651\" type=\"PPrel\">\n",
      "    <subtype name=\"activation\" value=\"--&gt;\">\n",
      "    </subtype>\n",
      "   </relation>\n",
      "   <entry id=\"708655\" link=\"https://www.kegg.jp/dbget-bin/www_bget?hsa:4967+hsa:708655\" name=\"hsa:4967 hsa:2-Naphthoyl-CoA\" type=\"protein\">\n",
      "    <graphics bgcolor=\"#42ECEF\" fgcolor=\"#FF0000\" height=\"17\" name=\"2-Naphthoyl-CoA\" type=\"rectangle\" width=\"60\" x=\"1.0\">\n",
      "    </graphics>\n",
      "   </entry>\n",
      "   <relation entry1=\"708655\" entry2=\"708709\" type=\"PPrel\">\n",
      "    <subtype name=\"activation\" value=\"--&gt;\">\n",
      "    </subtype>\n",
      "   </relation>\n",
      "   <entry id=\"708710\" link=\"https://www.kegg.jp/dbget-bin/www_bget?C00158\" name=\"708710\" type=\"reaction\">\n",
      "    <graphics bgcolor=\"#FFF8F8\" fgcolor=\"#FF4400\" height=\"15\" name=\"reaction\" type=\"circle\" width=\"60\" x=\"0.8885235533793074\" y=\"0.8885235533793074\">\n",
      "    </graphics>\n",
      "   </entry>\n",
      "   <relation entry1=\"708710\" entry2=\"708655\" type=\"PPrel\">\n",
      "    <subtype name=\"activation\" value=\"--&gt;\">\n",
      "    </subtype>\n",
      "   </relation>\n",
      "   <relation entry1=\"708648\" entry2=\"708710\" type=\"PPrel\">\n",
      "    <subtype name=\"activation\" value=\"--&gt;\">\n",
      "    </subtype>\n",
      "   </relation>\n",
      "   <entry id=\"708649\" link=\"https://www.kegg.jp/dbget-bin/www_bget?hsa:4967+hsa:708649\" name=\"hsa:4967 hsa:Succinyl-CoA\" type=\"protein\">\n",
      "    <graphics bgcolor=\"#42ECEF\" fgcolor=\"#FF0000\" height=\"17\" name=\"Succinyl-CoA\" type=\"rectangle\" width=\"60\" x=\"1.0\">\n",
      "    </graphics>\n",
      "   </entry>\n",
      "   <relation entry1=\"708710\" entry2=\"708649\" type=\"PPrel\">\n",
      "    <subtype name=\"activation\" value=\"--&gt;\">\n",
      "    </subtype>\n",
      "   </relation>\n",
      "   <entry id=\"708704\" link=\"https://www.kegg.jp/dbget-bin/www_bget?hsa:4967+hsa:708704\" name=\"hsa:4967 hsa:Naphthyl-2-oxomethyl-succinyl-CoA\" type=\"protein\">\n",
      "    <graphics bgcolor=\"#42ECEF\" fgcolor=\"#FF0000\" height=\"17\" name=\"Naphthyl-2-oxomethyl-succinyl-CoA\" type=\"rectangle\" width=\"60\" x=\"1.0\">\n",
      "    </graphics>\n",
      "   </entry>\n",
      "   <relation entry1=\"708704\" entry2=\"708710\" type=\"PPrel\">\n",
      "    <subtype name=\"activation\" value=\"--&gt;\">\n",
      "    </subtype>\n",
      "   </relation>\n",
      "   <entry id=\"708673\" link=\"https://www.kegg.jp/dbget-bin/www_bget?hsa:4967+hsa:708673\" name=\"hsa:4967 hsa:fm_708665\" type=\"protein\">\n",
      "    <graphics bgcolor=\"#42ECEF\" fgcolor=\"#FFBB00\" height=\"17\" name=\"fm_708665\" type=\"rectangle\" width=\"60\" x=\"0.6510582271515735\">\n",
      "    </graphics>\n",
      "   </entry>\n",
      "   <entry id=\"708711\" link=\"https://www.kegg.jp/dbget-bin/www_bget?C00158\" name=\"708711\" type=\"reaction\">\n",
      "    <graphics bgcolor=\"#FFF8F8\" fgcolor=\"#FFBB00\" height=\"15\" name=\"reaction\" type=\"circle\" width=\"60\" x=\"0.6510582271515735\" y=\"0.6510582271515735\">\n",
      "    </graphics>\n",
      "   </entry>\n",
      "   <relation entry1=\"708673\" entry2=\"708711\" type=\"PPrel\">\n",
      "    <subtype name=\"activation\" value=\"--&gt;\">\n",
      "    </subtype>\n",
      "   </relation>\n",
      "   <entry id=\"708680\" link=\"https://www.kegg.jp/dbget-bin/www_bget?hsa:4967+hsa:708680\" name=\"hsa:4967 hsa:1-Naphthaldehyde\" type=\"protein\">\n",
      "    <graphics bgcolor=\"#42ECEF\" fgcolor=\"#FF0000\" height=\"17\" name=\"1-Naphthaldehyde\" type=\"rectangle\" width=\"60\" x=\"1.0\">\n",
      "    </graphics>\n",
      "   </entry>\n",
      "   <relation entry1=\"708711\" entry2=\"708680\" type=\"PPrel\">\n",
      "    <subtype name=\"activation\" value=\"--&gt;\">\n",
      "    </subtype>\n",
      "   </relation>\n",
      "   <entry id=\"708682\" link=\"https://www.kegg.jp/dbget-bin/www_bget?hsa:4967+hsa:708682\" name=\"hsa:4967 hsa:1-Naphthalenemethanol\" type=\"protein\">\n",
      "    <graphics bgcolor=\"#42ECEF\" fgcolor=\"#FF0000\" height=\"17\" name=\"1-Naphthalenemethanol\" type=\"rectangle\" width=\"60\" x=\"1.0\">\n",
      "    </graphics>\n",
      "   </entry>\n",
      "   <relation entry1=\"708682\" entry2=\"708711\" type=\"PPrel\">\n",
      "    <subtype name=\"activation\" value=\"--&gt;\">\n",
      "    </subtype>\n",
      "   </relation>\n",
      "   <entry id=\"708677\" link=\"https://www.kegg.jp/dbget-bin/www_bget?hsa:4967+hsa:708677\" name=\"hsa:4967 hsa:fm_708674\" type=\"protein\">\n",
      "    <graphics bgcolor=\"#42ECEF\" fgcolor=\"#00FF00\" height=\"17\" name=\"fm_708674\" type=\"rectangle\" width=\"60\" x=\"0.0\">\n",
      "    </graphics>\n",
      "   </entry>\n",
      "   <entry id=\"708712\" link=\"https://www.kegg.jp/dbget-bin/www_bget?C00158\" name=\"708712\" type=\"reaction\">\n",
      "    <graphics bgcolor=\"#FFF8F8\" fgcolor=\"#00FF00\" height=\"15\" name=\"reaction\" type=\"circle\" width=\"60\" x=\"0.0\" y=\"0.0\">\n",
      "    </graphics>\n",
      "   </entry>\n",
      "   <relation entry1=\"708677\" entry2=\"708712\" type=\"PPrel\">\n",
      "    <subtype name=\"activation\" value=\"--&gt;\">\n",
      "    </subtype>\n",
      "   </relation>\n",
      "   <entry id=\"708695\" link=\"https://www.kegg.jp/dbget-bin/www_bget?hsa:4967+hsa:708695\" name=\"hsa:4967 hsa:Naphthyl-2-methylene-succinyl-CoA\" type=\"protein\">\n",
      "    <graphics bgcolor=\"#42ECEF\" fgcolor=\"#FF0000\" height=\"17\" name=\"Naphthyl-2-methylene-succinyl-CoA\" type=\"rectangle\" width=\"60\" x=\"1.0\">\n",
      "    </graphics>\n",
      "   </entry>\n",
      "   <relation entry1=\"708712\" entry2=\"708695\" type=\"PPrel\">\n",
      "    <subtype name=\"activation\" value=\"--&gt;\">\n",
      "    </subtype>\n",
      "   </relation>\n",
      "   <entry id=\"708688\" link=\"https://www.kegg.jp/dbget-bin/www_bget?hsa:4967+hsa:708688\" name=\"hsa:4967 hsa:Naphthyl-2-methyl-succinyl-CoA\" type=\"protein\">\n",
      "    <graphics bgcolor=\"#42ECEF\" fgcolor=\"#FF0000\" height=\"17\" name=\"Naphthyl-2-methyl-succinyl-CoA\" type=\"rectangle\" width=\"60\" x=\"1.0\">\n",
      "    </graphics>\n",
      "   </entry>\n",
      "   <relation entry1=\"708688\" entry2=\"708712\" type=\"PPrel\">\n",
      "    <subtype name=\"activation\" value=\"--&gt;\">\n",
      "    </subtype>\n",
      "   </relation>\n",
      "   <entry id=\"708713\" link=\"https://www.kegg.jp/dbget-bin/www_bget?C00158\" name=\"708713\" type=\"reaction\">\n",
      "    <graphics bgcolor=\"#FFF8F8\" fgcolor=\"#FFBB00\" height=\"15\" name=\"reaction\" type=\"circle\" width=\"60\" x=\"0.6510582271515735\" y=\"0.6510582271515735\">\n",
      "    </graphics>\n",
      "   </entry>\n",
      "   <relation entry1=\"708673\" entry2=\"708713\" type=\"PPrel\">\n",
      "    <subtype name=\"activation\" value=\"--&gt;\">\n",
      "    </subtype>\n",
      "   </relation>\n",
      "   <entry id=\"708652\" link=\"https://www.kegg.jp/dbget-bin/www_bget?hsa:4967+hsa:708652\" name=\"hsa:4967 hsa:2-Naphthaldehyde\" type=\"protein\">\n",
      "    <graphics bgcolor=\"#42ECEF\" fgcolor=\"#FF0000\" height=\"17\" name=\"2-Naphthaldehyde\" type=\"rectangle\" width=\"60\" x=\"1.0\">\n",
      "    </graphics>\n",
      "   </entry>\n",
      "   <relation entry1=\"708713\" entry2=\"708652\" type=\"PPrel\">\n",
      "    <subtype name=\"activation\" value=\"--&gt;\">\n",
      "    </subtype>\n",
      "   </relation>\n",
      "   <entry id=\"708653\" link=\"https://www.kegg.jp/dbget-bin/www_bget?hsa:4967+hsa:708653\" name=\"hsa:4967 hsa:(2-Naphthyl)methanol\" type=\"protein\">\n",
      "    <graphics bgcolor=\"#42ECEF\" fgcolor=\"#FF0000\" height=\"17\" name=\"(2-Naphthyl)methanol\" type=\"rectangle\" width=\"60\" x=\"1.0\">\n",
      "    </graphics>\n",
      "   </entry>\n",
      "   <relation entry1=\"708653\" entry2=\"708713\" type=\"PPrel\">\n",
      "    <subtype name=\"activation\" value=\"--&gt;\">\n",
      "    </subtype>\n",
      "   </relation>\n",
      "  </pathway>\n",
      " </body>\n",
      "</html>\n"
     ]
    },
    {
     "name": "stderr",
     "output_type": "stream",
     "text": [
      "C:\\Users\\user\\anaconda3\\lib\\site-packages\\bs4\\builder\\__init__.py:545: XMLParsedAsHTMLWarning:\n",
      "\n",
      "It looks like you're parsing an XML document using an HTML parser. If this really is an HTML document (maybe it's XHTML?), you can ignore or filter this warning. If it's XML, you should know that using an XML parser will be more reliable. To parse this document as XML, make sure you have the lxml package installed, and pass the keyword argument `features=\"xml\"` into the BeautifulSoup constructor.\n",
      "\n"
     ]
    }
   ],
   "source": [
    "import bs4\n",
    "\n",
    "\n",
    "sample_num = 0\n",
    "path_id = 708708\n",
    "\n",
    "xml_result = activity_obj.xmlparser(path_id=path_id, sample_num=sample_num)\n",
    "print(bs4.BeautifulSoup(xml_result).prettify())"
   ]
  },
  {
   "cell_type": "markdown",
   "metadata": {},
   "source": [
    "## Draw a Pathway Activity Map.\n",
    "\n",
    "We can select a specific sample and a specific pathway and draw the activity map."
   ]
  },
  {
   "cell_type": "code",
   "execution_count": 5,
   "metadata": {},
   "outputs": [],
   "source": [
    "sample_num = 0\n",
    "path_id = 708708\n",
    "\n",
    "activity_obj.graphparser(path_id, sample_num)"
   ]
  },
  {
   "cell_type": "markdown",
   "metadata": {},
   "source": [
    "## Troubleshooting\n",
    "- It was reported on problems running in Pycharm due to multiprocessing issues. There are no problems running on the command line or in Colab."
   ]
  },
  {
   "cell_type": "code",
   "execution_count": null,
   "metadata": {},
   "outputs": [],
   "source": []
  }
 ],
 "metadata": {
  "colab": {
   "collapsed_sections": [],
   "include_colab_link": true,
   "machine_shape": "hm",
   "name": "Pathweigh.ipynb",
   "provenance": []
  },
  "kernelspec": {
   "display_name": "Python 3 (ipykernel)",
   "language": "python",
   "name": "python3"
  },
  "language_info": {
   "codemirror_mode": {
    "name": "ipython",
    "version": 3
   },
   "file_extension": ".py",
   "mimetype": "text/x-python",
   "name": "python",
   "nbconvert_exporter": "python",
   "pygments_lexer": "ipython3",
   "version": "3.9.13"
  }
 },
 "nbformat": 4,
 "nbformat_minor": 1
}
