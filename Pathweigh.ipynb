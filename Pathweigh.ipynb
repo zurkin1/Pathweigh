{
 "cells": [
  {
   "cell_type": "markdown",
   "metadata": {},
   "source": [
    "# Calculate Pathweigh analysis, UDP, activity and cosistency."
   ]
  },
  {
   "cell_type": "code",
   "execution_count": 1,
   "metadata": {},
   "outputs": [],
   "source": [
    "import numpy as np\n",
    "import pandas as pd\n",
    "from scipy.special import gammaln, psi, factorial\n",
    "from scipy.optimize import fmin_l_bfgs_b as optim\n",
    "from scipy.stats import nbinom, norm, poisson, gennorm\n",
    "from sklearn.mixture import GaussianMixture as GMM\n",
    "from numpy import inf\n",
    "from matplotlib import pyplot as plt\n",
    "from udp import *\n",
    "from activity import *\n",
    "\n",
    "infinitesimal = np.finfo(np.float).eps"
   ]
  },
  {
   "cell_type": "markdown",
   "metadata": {},
   "source": [
    "## Load file"
   ]
  },
  {
   "cell_type": "code",
   "execution_count": 3,
   "metadata": {},
   "outputs": [
    {
     "data": {
      "application/vnd.jupyter.widget-view+json": {
       "model_id": "4403b8ff54864f108531f2522f9c5f3c",
       "version_major": 2,
       "version_minor": 0
      },
      "text/plain": [
       "FileUpload(value={}, accept='.csv', description='Upload', style=ButtonStyle(button_color='lightgreen'))"
      ]
     },
     "metadata": {},
     "output_type": "display_data"
    },
    {
     "name": "stdout",
     "output_type": "stream",
     "text": [
      "GSE29013_RMA.csv\n",
      "Length of data file: 36399849\n",
      "Done\n"
     ]
    }
   ],
   "source": [
    "#Running locally, read file from path.\n",
    "#data = pd.read_csv('./data/Pathweigh/GSE29013_RMA.csv', index_col=0)\n",
    "#Or upload file using widget.\n",
    "import pandas as pd\n",
    "import ipywidgets as widgets\n",
    "import io\n",
    "\n",
    "#FileUpload limit size: https://github.com/jupyter-widgets/ipywidgets/issues/2522.\n",
    "data = pd.DataFrame()\n",
    "\n",
    "def ff(b):\n",
    "    global data\n",
    "    s.style.button_color = \"yellow\"\n",
    "    for elem in b.new.values():\n",
    "        print(elem['metadata']['name'])\n",
    "        #with open(elem['metadata']['name'], 'wb') as file:\n",
    "            #file.write(elem['content'])\n",
    "        print(f'Length of data file: {len(elem[\"content\"])}')\n",
    "        data = pd.read_csv(io.BytesIO(elem['content']), index_col=0)\n",
    "        print(\"Done\")\n",
    "    s.style.button_color = \"lightgreen\"\n",
    "\n",
    "s = widgets.FileUpload(\n",
    "    accept='.csv',  # Accepted file extension e.g. '.txt', '.pdf', 'image/*', 'image/*,.pdf'\n",
    "    multiple=False  # True to accept multiple files upload else False\n",
    ")\n",
    "s.style.button_color = \"lightgreen\"\n",
    "s.observe(ff, names='value')\n",
    "s"
   ]
  },
  {
   "cell_type": "markdown",
   "metadata": {},
   "source": [
    "## Calculate UDP"
   ]
  },
  {
   "cell_type": "code",
   "execution_count": 4,
   "metadata": {},
   "outputs": [
    {
     "name": "stdout",
     "output_type": "stream",
     "text": [
      "Fri Feb  7 11:29:26 2020 Calculate UDP, is_rnaseq: False\n",
      "..............................................................................."
     ]
    }
   ],
   "source": [
    "#Run UDP calculation.\n",
    "is_rnaseq = False #Chance to True in case of RNASeq data.\n",
    "udp = calc_udp_multi_process(data, is_rnaseq)"
   ]
  },
  {
   "cell_type": "markdown",
   "metadata": {},
   "source": [
    "## Calculate Activity and Consistency"
   ]
  },
  {
   "cell_type": "code",
   "execution_count": 5,
   "metadata": {},
   "outputs": [
    {
     "name": "stdout",
     "output_type": "stream",
     "text": [
      "Fri Feb  7 11:30:34 2020 Init activity object\n",
      "Fri Feb  7 11:30:35 2020 Calculate activity and consistency...\n",
      "...Fri Feb  7 11:30:42 2020 Done.\n"
     ]
    }
   ],
   "source": [
    "activity_obj = path_activity(udp, is_rnaseq)\n",
    "activity = activity_obj.calc_activity_consistency_multi_process()"
   ]
  },
  {
   "cell_type": "markdown",
   "metadata": {},
   "source": [
    "## Select Path For Export"
   ]
  },
  {
   "cell_type": "code",
   "execution_count": 6,
   "metadata": {},
   "outputs": [
    {
     "data": {
      "application/vnd.jupyter.widget-view+json": {
       "model_id": "39d4624841e74136965d33f6f6e206c4",
       "version_major": 2,
       "version_minor": 0
      },
      "text/plain": [
       "Dropdown(description='Select a path', options=('granzyme a mediated apoptosis pathway(BioCarta)', 'hiv-1 nef: …"
      ]
     },
     "metadata": {},
     "output_type": "display_data"
    }
   ],
   "source": [
    "paths = pd.read_csv('pathologist.db.txt', delimiter='\\t', header=None)\n",
    "options = paths[0].unique()\n",
    "dd = widgets.Dropdown(options=options, description='Select a path', disabled=False)\n",
    "dd"
   ]
  },
  {
   "cell_type": "code",
   "execution_count": 7,
   "metadata": {
    "scrolled": true
   },
   "outputs": [
    {
     "name": "stdout",
     "output_type": "stream",
     "text": [
      "Create Kegg XML for path: granzyme a mediated apoptosis pathway(BioCarta), sample: 0\n",
      "Output XML file: /tmp/output_path.xml\n"
     ]
    }
   ],
   "source": [
    "xml_result = activity_obj.xmlparser(path_id=dd.value, sample_num=0) #Select the required sample number."
   ]
  },
  {
   "cell_type": "code",
   "execution_count": 29,
   "metadata": {},
   "outputs": [
    {
     "data": {
      "application/vnd.jupyter.widget-view+json": {
       "model_id": "ee89be0ca58e4c479ff25ab658fe8ee8",
       "version_major": 2,
       "version_minor": 0
      },
      "text/plain": [
       "HTML(value='<a download=\\'path.xml\\' href=\\'data:text;charset=utf-8,<?xml version=\"1.0\"?><!DOCTYPE pathway SYS…"
      ]
     },
     "metadata": {},
     "output_type": "display_data"
    }
   ],
   "source": [
    "from ipywidgets import HTML\n",
    "\n",
    "#HTML(\"\"\"<a download='test.csv' href='data:text/csv;charset=utf-8;base64,c2VwYWxfbGVuZ3RoLHNlcGFsX3dpZHRoLHBldGFsX2xlbmd0aCxwZXRhbF93aWR0aCxzcGVjaWVzDQo1LjEsMy41LDEuNCwwLjIsc2V0b3NhDQo0LjksMywxLjQsMC4yLHNldG9zYQ0KNC43LDMuMiwxLjMsMC4yLHNldG9zYQ0K'>asdf</a>\"\"\")\n",
    "HTML(f\"<a download='path.xml' href='data:text;charset=utf-8,{xml_result}'>path.xml</a>\")"
   ]
  },
  {
   "cell_type": "code",
   "execution_count": 27,
   "metadata": {},
   "outputs": [
    {
     "data": {
      "text/plain": [
       "'<?xml version=\"1.0\"?><!DOCTYPE pathway SYSTEM \"https://www.kegg.jp/kegg/xml/KGML_v0.7.2_.dtd\"><pathway name=\"path:hsa100035\" org=\"hsa\" number=\"granzyme a mediated apoptosis pathway(BioCarta)\" title=\"100035\"><entry id=\"GZMB\" name=\"hsa:4967 hsa:28151\" type=\"protein\" link=\"https://www.kegg.jp/dbget-bin/www_bget?hsa:4967+hsa:28151\"> <graphics name=\"GZMB\" fgcolor=\"#11FF00\" bgcolor=\"#42ECEF\" x=\"0.03754758905328347\" type=\"rectangle\" width=\"32\" height=\"17\"/> </entry><entry id=\"100473\" name=\"100473\" type=\"reaction\" link=\"https://www.kegg.jp/dbget-bin/www_bget?C00158\"> <graphics name=\"translocation\" fgcolor=\"#00FF00\" bgcolor=\"#FFF8F8\" x=\"0.003746694081506414\" y=\"0.9589870755245716\" type=\"circle\" width=\"60\" height=\"15\"/> </entry><relation entry1=\"100473\" entry2=\"GZMB\" type=\"PPrel\"> <subtype name=\"activation\" value=\"-->\"/> </relation><relation entry1=\"GZMB\" entry2=\"100473\" type=\"PPrel\"> <subtype name=\"activation\" value=\"-->\"/> </relation><entry id=\"PRF1\" name=\"hsa:4967 hsa:101015\" type=\"protein\" link=\"https://www.kegg.jp/dbget-bin/www_bget?hsa:4967+hsa:101015\"> <graphics name=\"PRF1\" fgcolor=\"#FF2200\" bgcolor=\"#42ECEF\" x=\"0.9420070462043382\" type=\"rectangle\" width=\"32\" height=\"17\"/> </entry><relation entry1=\"PRF1\" entry2=\"100473\" type=\"PPrel\"> <subtype name=\"activation\" value=\"-->\"/> </relation><entry id=\"GZMA\" name=\"hsa:4967 hsa:28149\" type=\"protein\" link=\"https://www.kegg.jp/dbget-bin/www_bget?hsa:4967+hsa:28149\"> <graphics name=\"GZMA\" fgcolor=\"#33FF00\" bgcolor=\"#42ECEF\" x=\"0.10592830596131772\" type=\"rectangle\" width=\"32\" height=\"17\"/> </entry><relation entry1=\"GZMA\" entry2=\"100473\" type=\"PPrel\"> <subtype name=\"activation\" value=\"-->\"/> </relation><relation entry1=\"100473\" entry2=\"GZMA\" type=\"PPrel\"> <subtype name=\"activation\" value=\"-->\"/> </relation><entry id=\"SET/NME1/HMG2/Ape1/pp32\" name=\"hsa:4967 hsa:101016\" type=\"ortholog\" link=\"https://www.kegg.jp/dbget-bin/www_bget?hsa:4967+hsa:101016\"> <graphics name=\"SET/NME1/HMG2/Ape1/pp32\" fgcolor=\"#11FF00\" bgcolor=\"#C3B6B6\" x=\"0.040513240045629256\" type=\"rectangle\" width=\"60\" height=\"17\"/> </entry><entry id=\"100474\" name=\"100474\" type=\"reaction\" link=\"https://www.kegg.jp/dbget-bin/www_bget?C00158\"> <graphics name=\"translocation\" fgcolor=\"#00FF00\" bgcolor=\"#FFF8F8\" x=\"0.004291498887037726\" y=\"0.004291498887037726\" type=\"circle\" width=\"60\" height=\"15\"/> </entry><relation entry1=\"SET/NME1/HMG2/Ape1/pp32\" entry2=\"100474\" type=\"PPrel\"> <subtype name=\"activation\" value=\"-->\"/> </relation><relation entry1=\"100474\" entry2=\"SET/NME1/HMG2/Ape1/pp32\" type=\"PPrel\"> <subtype name=\"activation\" value=\"-->\"/> </relation><relation entry1=\"GZMA\" entry2=\"100474\" type=\"PPrel\"> <subtype name=\"activation\" value=\"-->\"/> </relation><entry id=\"ANP32A\" name=\"hsa:4967 hsa:101019\" type=\"protein\" link=\"https://www.kegg.jp/dbget-bin/www_bget?hsa:4967+hsa:101019\"> <graphics name=\"ANP32A\" fgcolor=\"#FF1100\" bgcolor=\"#42ECEF\" x=\"0.9999769558967879\" type=\"rectangle\" width=\"48\" height=\"17\"/> </entry><entry id=\"100475\" name=\"100475\" type=\"reaction\" link=\"https://www.kegg.jp/dbget-bin/www_bget?C00158\"> <graphics name=\"modification\" fgcolor=\"#11FF00\" bgcolor=\"#FFF8F8\" x=\"0.040513240045629256\" y=\"0.040534416966271206\" type=\"circle\" width=\"60\" height=\"15\"/> </entry><relation entry1=\"100475\" entry2=\"ANP32A\" type=\"PPrel\"> <subtype name=\"activation\" value=\"-->\"/> </relation><entry id=\"HMGB2\" name=\"hsa:4967 hsa:101018\" type=\"protein\" link=\"https://www.kegg.jp/dbget-bin/www_bget?hsa:4967+hsa:101018\"> <graphics name=\"HMGB2\" fgcolor=\"#FF2200\" bgcolor=\"#42ECEF\" x=\"0.9449265554463174\" type=\"rectangle\" width=\"40\" height=\"17\"/> </entry><relation entry1=\"100475\" entry2=\"HMGB2\" type=\"PPrel\"> <subtype name=\"activation\" value=\"-->\"/> </relation><relation entry1=\"SET/NME1/HMG2/Ape1/pp32\" entry2=\"100475\" type=\"PPrel\"> <subtype name=\"activation\" value=\"-->\"/> </relation><entry id=\"NME1\" name=\"hsa:4967 hsa:26908\" type=\"protein\" link=\"https://www.kegg.jp/dbget-bin/www_bget?hsa:4967+hsa:26908\"> <graphics name=\"NME1\" fgcolor=\"#11FF00\" bgcolor=\"#42ECEF\" x=\"0.04287547758520379\" type=\"rectangle\" width=\"32\" height=\"17\"/> </entry><relation entry1=\"100475\" entry2=\"NME1\" type=\"PPrel\"> <subtype name=\"activation\" value=\"-->\"/> </relation><entry id=\"SET\" name=\"hsa:4967 hsa:101017\" type=\"protein\" link=\"https://www.kegg.jp/dbget-bin/www_bget?hsa:4967+hsa:101017\"> <graphics name=\"SET\" fgcolor=\"#FF1100\" bgcolor=\"#42ECEF\" x=\"0.999999913910609\" type=\"rectangle\" width=\"24\" height=\"17\"/> </entry><relation entry1=\"100475\" entry2=\"SET\" type=\"PPrel\"> <subtype name=\"activation\" value=\"-->\"/> </relation><entry id=\"APEX1\" name=\"hsa:4967 hsa:29169\" type=\"protein\" link=\"https://www.kegg.jp/dbget-bin/www_bget?hsa:4967+hsa:29169\"> <graphics name=\"APEX1\" fgcolor=\"#FF1100\" bgcolor=\"#42ECEF\" x=\"0.9999999950280865\" type=\"rectangle\" width=\"40\" height=\"17\"/> </entry><relation entry1=\"100475\" entry2=\"APEX1\" type=\"PPrel\"> <subtype name=\"activation\" value=\"-->\"/> </relation><entry id=\"100476\" name=\"100476\" type=\"reaction\" link=\"https://www.kegg.jp/dbget-bin/www_bget?C00158\"> <graphics name=\"DNA fragmentation\" fgcolor=\"#11FF00\" bgcolor=\"#FFF8F8\" x=\"0.04287547758520379\" y=\"0.04287547758520379\" type=\"circle\" width=\"60\" height=\"15\"/> </entry><relation entry1=\"NME1\" entry2=\"100476\" type=\"PPrel\"> <subtype name=\"activation\" value=\"-->\"/> </relation><entry id=\"CASP3\" name=\"hsa:4967 hsa:100602\" type=\"protein\" link=\"https://www.kegg.jp/dbget-bin/www_bget?hsa:4967+hsa:100602\"> <graphics name=\"CASP3\" fgcolor=\"#FF1100\" bgcolor=\"#42ECEF\" x=\"0.9859580486492555\" type=\"rectangle\" width=\"40\" height=\"17\"/> </entry><entry id=\"100477\" name=\"100477\" type=\"reaction\" link=\"https://www.kegg.jp/dbget-bin/www_bget?C00158\"> <graphics name=\"modification\" fgcolor=\"#11FF00\" bgcolor=\"#FFF8F8\" x=\"0.037020347634459515\" y=\"0.037020347634459515\" type=\"circle\" width=\"60\" height=\"15\"/> </entry><relation entry1=\"CASP3\" entry2=\"100477\" type=\"PPrel\"> <subtype name=\"activation\" value=\"-->\"/> </relation><relation entry1=\"100477\" entry2=\"CASP3\" type=\"PPrel\"> <subtype name=\"activation\" value=\"-->\"/> </relation><relation entry1=\"GZMB\" entry2=\"100477\" type=\"PPrel\"> <subtype name=\"activation\" value=\"-->\"/> </relation><entry id=\"ICAD/CAD\" name=\"hsa:4967 hsa:101020\" type=\"ortholog\" link=\"https://www.kegg.jp/dbget-bin/www_bget?hsa:4967+hsa:101020\"> <graphics name=\"ICAD/CAD\" fgcolor=\"#11FF00\" bgcolor=\"#C3B6B6\" x=\"0.04734338206069832\" type=\"rectangle\" width=\"60\" height=\"17\"/> </entry><entry id=\"100478\" name=\"100478\" type=\"reaction\" link=\"https://www.kegg.jp/dbget-bin/www_bget?C00158\"> <graphics name=\"degradation\" fgcolor=\"#11FF00\" bgcolor=\"#FFF8F8\" x=\"0.046678588593022284\" y=\"0.046678588593022284\" type=\"circle\" width=\"60\" height=\"15\"/> </entry><relation entry1=\"ICAD/CAD\" entry2=\"100478\" type=\"PPrel\"> <subtype name=\"activation\" value=\"-->\"/> </relation><entry id=\"DFFB\" name=\"hsa:4967 hsa:101022\" type=\"protein\" link=\"https://www.kegg.jp/dbget-bin/www_bget?hsa:4967+hsa:101022\"> <graphics name=\"DFFB\" fgcolor=\"#FF7700\" bgcolor=\"#42ECEF\" x=\"0.773495856271276\" type=\"rectangle\" width=\"32\" height=\"17\"/> </entry><relation entry1=\"100478\" entry2=\"DFFB\" type=\"PPrel\"> <subtype name=\"activation\" value=\"-->\"/> </relation><relation entry1=\"CASP3\" entry2=\"100478\" type=\"PPrel\"> <subtype name=\"activation\" value=\"-->\"/> </relation><entry id=\"100479\" name=\"100479\" type=\"reaction\" link=\"https://www.kegg.jp/dbget-bin/www_bget?C00158\"> <graphics name=\"translocation\" fgcolor=\"#FF7700\" bgcolor=\"#FFF8F8\" x=\"0.773495856271276\" y=\"0.773495856271276\" type=\"circle\" width=\"60\" height=\"15\"/> </entry><relation entry1=\"DFFB\" entry2=\"100479\" type=\"PPrel\"> <subtype name=\"activation\" value=\"-->\"/> </relation><relation entry1=\"100479\" entry2=\"DFFB\" type=\"PPrel\"> <subtype name=\"activation\" value=\"-->\"/> </relation><entry id=\"100480\" name=\"100480\" type=\"reaction\" link=\"https://www.kegg.jp/dbget-bin/www_bget?C00158\"> <graphics name=\"DNA fragmentation\" fgcolor=\"#FF7700\" bgcolor=\"#FFF8F8\" x=\"0.773495856271276\" y=\"0.773495856271276\" type=\"circle\" width=\"60\" height=\"15\"/> </entry><relation entry1=\"DFFB\" entry2=\"100480\" type=\"PPrel\"> <subtype name=\"activation\" value=\"-->\"/> </relation><entry id=\"100481\" name=\"100481\" type=\"reaction\" link=\"https://www.kegg.jp/dbget-bin/www_bget?C00158\"> <graphics name=\"DNA repair\" fgcolor=\"#FF1100\" bgcolor=\"#FFF8F8\" x=\"0.9999768648375823\" y=\"0.9999768648375823\" type=\"circle\" width=\"60\" height=\"15\"/> </entry><relation entry1=\"APEX1\" entry2=\"100481\" type=\"PPrel\"> <subtype name=\"activation\" value=\"-->\"/> </relation><relation entry1=\"ANP32A\" entry2=\"100481\" type=\"PPrel\"> <subtype name=\"activation\" value=\"-->\"/> </relation><relation entry1=\"SET\" entry2=\"100481\" type=\"PPrel\"> <subtype name=\"activation\" value=\"-->\"/> </relation><entry id=\"100482\" name=\"100482\" type=\"reaction\" link=\"https://www.kegg.jp/dbget-bin/www_bget?C00158\"> <graphics name=\"regulation of transcription\" fgcolor=\"#FF1100\" bgcolor=\"#FFF8F8\" x=\"0.9999768648375823\" y=\"0.9999768648375823\" type=\"circle\" width=\"60\" height=\"15\"/> </entry><relation entry1=\"APEX1\" entry2=\"100482\" type=\"PPrel\"> <subtype name=\"activation\" value=\"-->\"/> </relation><relation entry1=\"ANP32A\" entry2=\"100482\" type=\"PPrel\"> <subtype name=\"activation\" value=\"-->\"/> </relation><relation entry1=\"SET\" entry2=\"100482\" type=\"PPrel\"> <subtype name=\"activation\" value=\"-->\"/> </relation><entry id=\"CREBBP\" name=\"hsa:4967 hsa:25631\" type=\"protein\" link=\"https://www.kegg.jp/dbget-bin/www_bget?hsa:4967+hsa:25631\"> <graphics name=\"CREBBP\" fgcolor=\"#FF1100\" bgcolor=\"#42ECEF\" x=\"0.9999995225459407\" type=\"rectangle\" width=\"48\" height=\"17\"/> </entry><entry id=\"100483\" name=\"100483\" type=\"reaction\" link=\"https://www.kegg.jp/dbget-bin/www_bget?C00158\"> <graphics name=\"transcription\" fgcolor=\"#00FF00\" bgcolor=\"#FFF8F8\" x=\"8.60893498456107e-08\" y=\"8.60893498456107e-08\" type=\"circle\" width=\"60\" height=\"15\"/> </entry><relation entry1=\"CREBBP\" entry2=\"100483\" type=\"PPrel\"> <subtype name=\"activation\" value=\"-->\"/> </relation><relation entry1=\"SET\" entry2=\"100483\" type=\"PPrel\"> <subtype name=\"activation\" value=\"--|\"/> </relation></pathway>'"
      ]
     },
     "execution_count": 27,
     "metadata": {},
     "output_type": "execute_result"
    }
   ],
   "source": [
    "xml_result"
   ]
  }
 ],
 "metadata": {
  "kernelspec": {
   "display_name": "Python 3",
   "language": "python",
   "name": "python3"
  },
  "language_info": {
   "codemirror_mode": {
    "name": "ipython",
    "version": 3
   },
   "file_extension": ".py",
   "mimetype": "text/x-python",
   "name": "python",
   "nbconvert_exporter": "python",
   "pygments_lexer": "ipython3",
   "version": "3.7.1"
  }
 },
 "nbformat": 4,
 "nbformat_minor": 2
}
